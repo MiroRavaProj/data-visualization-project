{
 "cells": [
  {
   "cell_type": "code",
   "execution_count": 1,
   "metadata": {},
   "outputs": [],
   "source": [
    "import pandas as pd\n",
    "import numpy as np"
   ]
  },
  {
   "cell_type": "code",
   "execution_count": 2,
   "metadata": {},
   "outputs": [],
   "source": [
    "df_old = pd.read_csv('data/2009.csv').drop('Unnamed: 27', axis=1)\n",
    "df_old.columns = [x.lower() for x in df_old.columns]\n",
    "df_old.loc[:, 'fl_date'] = pd.to_datetime(df_old['fl_date'])"
   ]
  },
  {
   "cell_type": "code",
   "execution_count": 3,
   "metadata": {},
   "outputs": [],
   "source": [
    "df_recent = pd.read_csv('data/2018.csv').drop('Unnamed: 27', axis=1)\n",
    "df_recent.columns = [x.lower() for x in df_recent.columns]\n",
    "df_recent.loc[:, 'fl_date'] = pd.to_datetime(df_recent['fl_date'])"
   ]
  },
  {
   "cell_type": "code",
   "execution_count": 4,
   "metadata": {},
   "outputs": [],
   "source": [
    "df_airlines = pd.read_csv('data/airlines.csv')\n",
    "df_airports = pd.read_csv('data/airports.csv')"
   ]
  },
  {
   "cell_type": "code",
   "execution_count": 5,
   "metadata": {},
   "outputs": [
    {
     "data": {
      "text/plain": "fl_date                datetime64[ns]\nop_carrier                     object\nop_carrier_fl_num               int64\norigin                         object\ndest                           object\ncrs_dep_time                    int64\ndep_time                      float64\ndep_delay                     float64\ntaxi_out                      float64\nwheels_off                    float64\nwheels_on                     float64\ntaxi_in                       float64\ncrs_arr_time                    int64\narr_time                      float64\narr_delay                     float64\ncancelled                     float64\ncancellation_code              object\ndiverted                      float64\ncrs_elapsed_time              float64\nactual_elapsed_time           float64\nair_time                      float64\ndistance                      float64\ncarrier_delay                 float64\nweather_delay                 float64\nnas_delay                     float64\nsecurity_delay                float64\nlate_aircraft_delay           float64\ndtype: object"
     },
     "execution_count": 5,
     "metadata": {},
     "output_type": "execute_result"
    }
   ],
   "source": [
    "df_recent.dtypes"
   ]
  },
  {
   "cell_type": "code",
   "execution_count": 6,
   "metadata": {},
   "outputs": [
    {
     "data": {
      "text/plain": "     fl_date op_carrier  op_carrier_fl_num origin dest  crs_dep_time  \\\n0 2009-01-01         XE               1204    DCA  EWR          1100   \n1 2009-01-01         XE               1206    EWR  IAD          1510   \n2 2009-01-01         XE               1207    EWR  DCA          1100   \n3 2009-01-01         XE               1208    DCA  EWR          1240   \n4 2009-01-01         XE               1209    IAD  EWR          1715   \n\n   dep_time  dep_delay  taxi_out  wheels_off  ...  diverted  crs_elapsed_time  \\\n0    1058.0       -2.0      18.0      1116.0  ...       0.0              62.0   \n1    1509.0       -1.0      28.0      1537.0  ...       0.0              82.0   \n2    1059.0       -1.0      20.0      1119.0  ...       0.0              70.0   \n3    1249.0        9.0      10.0      1259.0  ...       0.0              77.0   \n4    1705.0      -10.0      24.0      1729.0  ...       0.0             105.0   \n\n   actual_elapsed_time  air_time  distance  carrier_delay weather_delay  \\\n0                 68.0      42.0     199.0            NaN           NaN   \n1                 75.0      43.0     213.0            NaN           NaN   \n2                 62.0      36.0     199.0            NaN           NaN   \n3                 56.0      37.0     199.0            NaN           NaN   \n4                 77.0      40.0     213.0            NaN           NaN   \n\n   nas_delay  security_delay  late_aircraft_delay  \n0        NaN             NaN                  NaN  \n1        NaN             NaN                  NaN  \n2        NaN             NaN                  NaN  \n3        NaN             NaN                  NaN  \n4        NaN             NaN                  NaN  \n\n[5 rows x 27 columns]",
      "text/html": "<div>\n<style scoped>\n    .dataframe tbody tr th:only-of-type {\n        vertical-align: middle;\n    }\n\n    .dataframe tbody tr th {\n        vertical-align: top;\n    }\n\n    .dataframe thead th {\n        text-align: right;\n    }\n</style>\n<table border=\"1\" class=\"dataframe\">\n  <thead>\n    <tr style=\"text-align: right;\">\n      <th></th>\n      <th>fl_date</th>\n      <th>op_carrier</th>\n      <th>op_carrier_fl_num</th>\n      <th>origin</th>\n      <th>dest</th>\n      <th>crs_dep_time</th>\n      <th>dep_time</th>\n      <th>dep_delay</th>\n      <th>taxi_out</th>\n      <th>wheels_off</th>\n      <th>...</th>\n      <th>diverted</th>\n      <th>crs_elapsed_time</th>\n      <th>actual_elapsed_time</th>\n      <th>air_time</th>\n      <th>distance</th>\n      <th>carrier_delay</th>\n      <th>weather_delay</th>\n      <th>nas_delay</th>\n      <th>security_delay</th>\n      <th>late_aircraft_delay</th>\n    </tr>\n  </thead>\n  <tbody>\n    <tr>\n      <th>0</th>\n      <td>2009-01-01</td>\n      <td>XE</td>\n      <td>1204</td>\n      <td>DCA</td>\n      <td>EWR</td>\n      <td>1100</td>\n      <td>1058.0</td>\n      <td>-2.0</td>\n      <td>18.0</td>\n      <td>1116.0</td>\n      <td>...</td>\n      <td>0.0</td>\n      <td>62.0</td>\n      <td>68.0</td>\n      <td>42.0</td>\n      <td>199.0</td>\n      <td>NaN</td>\n      <td>NaN</td>\n      <td>NaN</td>\n      <td>NaN</td>\n      <td>NaN</td>\n    </tr>\n    <tr>\n      <th>1</th>\n      <td>2009-01-01</td>\n      <td>XE</td>\n      <td>1206</td>\n      <td>EWR</td>\n      <td>IAD</td>\n      <td>1510</td>\n      <td>1509.0</td>\n      <td>-1.0</td>\n      <td>28.0</td>\n      <td>1537.0</td>\n      <td>...</td>\n      <td>0.0</td>\n      <td>82.0</td>\n      <td>75.0</td>\n      <td>43.0</td>\n      <td>213.0</td>\n      <td>NaN</td>\n      <td>NaN</td>\n      <td>NaN</td>\n      <td>NaN</td>\n      <td>NaN</td>\n    </tr>\n    <tr>\n      <th>2</th>\n      <td>2009-01-01</td>\n      <td>XE</td>\n      <td>1207</td>\n      <td>EWR</td>\n      <td>DCA</td>\n      <td>1100</td>\n      <td>1059.0</td>\n      <td>-1.0</td>\n      <td>20.0</td>\n      <td>1119.0</td>\n      <td>...</td>\n      <td>0.0</td>\n      <td>70.0</td>\n      <td>62.0</td>\n      <td>36.0</td>\n      <td>199.0</td>\n      <td>NaN</td>\n      <td>NaN</td>\n      <td>NaN</td>\n      <td>NaN</td>\n      <td>NaN</td>\n    </tr>\n    <tr>\n      <th>3</th>\n      <td>2009-01-01</td>\n      <td>XE</td>\n      <td>1208</td>\n      <td>DCA</td>\n      <td>EWR</td>\n      <td>1240</td>\n      <td>1249.0</td>\n      <td>9.0</td>\n      <td>10.0</td>\n      <td>1259.0</td>\n      <td>...</td>\n      <td>0.0</td>\n      <td>77.0</td>\n      <td>56.0</td>\n      <td>37.0</td>\n      <td>199.0</td>\n      <td>NaN</td>\n      <td>NaN</td>\n      <td>NaN</td>\n      <td>NaN</td>\n      <td>NaN</td>\n    </tr>\n    <tr>\n      <th>4</th>\n      <td>2009-01-01</td>\n      <td>XE</td>\n      <td>1209</td>\n      <td>IAD</td>\n      <td>EWR</td>\n      <td>1715</td>\n      <td>1705.0</td>\n      <td>-10.0</td>\n      <td>24.0</td>\n      <td>1729.0</td>\n      <td>...</td>\n      <td>0.0</td>\n      <td>105.0</td>\n      <td>77.0</td>\n      <td>40.0</td>\n      <td>213.0</td>\n      <td>NaN</td>\n      <td>NaN</td>\n      <td>NaN</td>\n      <td>NaN</td>\n      <td>NaN</td>\n    </tr>\n  </tbody>\n</table>\n<p>5 rows × 27 columns</p>\n</div>"
     },
     "execution_count": 6,
     "metadata": {},
     "output_type": "execute_result"
    }
   ],
   "source": [
    "df_old.head()"
   ]
  },
  {
   "cell_type": "code",
   "execution_count": 7,
   "metadata": {},
   "outputs": [
    {
     "data": {
      "text/plain": "     fl_date op_carrier  op_carrier_fl_num origin dest  crs_dep_time  \\\n0 2018-01-01         UA               2429    EWR  DEN          1517   \n1 2018-01-01         UA               2427    LAS  SFO          1115   \n2 2018-01-01         UA               2426    SNA  DEN          1335   \n3 2018-01-01         UA               2425    RSW  ORD          1546   \n4 2018-01-01         UA               2424    ORD  ALB           630   \n\n   dep_time  dep_delay  taxi_out  wheels_off  ...  diverted  crs_elapsed_time  \\\n0    1512.0       -5.0      15.0      1527.0  ...       0.0             268.0   \n1    1107.0       -8.0      11.0      1118.0  ...       0.0              99.0   \n2    1330.0       -5.0      15.0      1345.0  ...       0.0             134.0   \n3    1552.0        6.0      19.0      1611.0  ...       0.0             190.0   \n4     650.0       20.0      13.0       703.0  ...       0.0             112.0   \n\n   actual_elapsed_time  air_time  distance  carrier_delay weather_delay  \\\n0                250.0     225.0    1605.0            NaN           NaN   \n1                 83.0      65.0     414.0            NaN           NaN   \n2                126.0     106.0     846.0            NaN           NaN   \n3                182.0     157.0    1120.0            NaN           NaN   \n4                106.0      83.0     723.0            NaN           NaN   \n\n   nas_delay  security_delay  late_aircraft_delay  \n0        NaN             NaN                  NaN  \n1        NaN             NaN                  NaN  \n2        NaN             NaN                  NaN  \n3        NaN             NaN                  NaN  \n4        NaN             NaN                  NaN  \n\n[5 rows x 27 columns]",
      "text/html": "<div>\n<style scoped>\n    .dataframe tbody tr th:only-of-type {\n        vertical-align: middle;\n    }\n\n    .dataframe tbody tr th {\n        vertical-align: top;\n    }\n\n    .dataframe thead th {\n        text-align: right;\n    }\n</style>\n<table border=\"1\" class=\"dataframe\">\n  <thead>\n    <tr style=\"text-align: right;\">\n      <th></th>\n      <th>fl_date</th>\n      <th>op_carrier</th>\n      <th>op_carrier_fl_num</th>\n      <th>origin</th>\n      <th>dest</th>\n      <th>crs_dep_time</th>\n      <th>dep_time</th>\n      <th>dep_delay</th>\n      <th>taxi_out</th>\n      <th>wheels_off</th>\n      <th>...</th>\n      <th>diverted</th>\n      <th>crs_elapsed_time</th>\n      <th>actual_elapsed_time</th>\n      <th>air_time</th>\n      <th>distance</th>\n      <th>carrier_delay</th>\n      <th>weather_delay</th>\n      <th>nas_delay</th>\n      <th>security_delay</th>\n      <th>late_aircraft_delay</th>\n    </tr>\n  </thead>\n  <tbody>\n    <tr>\n      <th>0</th>\n      <td>2018-01-01</td>\n      <td>UA</td>\n      <td>2429</td>\n      <td>EWR</td>\n      <td>DEN</td>\n      <td>1517</td>\n      <td>1512.0</td>\n      <td>-5.0</td>\n      <td>15.0</td>\n      <td>1527.0</td>\n      <td>...</td>\n      <td>0.0</td>\n      <td>268.0</td>\n      <td>250.0</td>\n      <td>225.0</td>\n      <td>1605.0</td>\n      <td>NaN</td>\n      <td>NaN</td>\n      <td>NaN</td>\n      <td>NaN</td>\n      <td>NaN</td>\n    </tr>\n    <tr>\n      <th>1</th>\n      <td>2018-01-01</td>\n      <td>UA</td>\n      <td>2427</td>\n      <td>LAS</td>\n      <td>SFO</td>\n      <td>1115</td>\n      <td>1107.0</td>\n      <td>-8.0</td>\n      <td>11.0</td>\n      <td>1118.0</td>\n      <td>...</td>\n      <td>0.0</td>\n      <td>99.0</td>\n      <td>83.0</td>\n      <td>65.0</td>\n      <td>414.0</td>\n      <td>NaN</td>\n      <td>NaN</td>\n      <td>NaN</td>\n      <td>NaN</td>\n      <td>NaN</td>\n    </tr>\n    <tr>\n      <th>2</th>\n      <td>2018-01-01</td>\n      <td>UA</td>\n      <td>2426</td>\n      <td>SNA</td>\n      <td>DEN</td>\n      <td>1335</td>\n      <td>1330.0</td>\n      <td>-5.0</td>\n      <td>15.0</td>\n      <td>1345.0</td>\n      <td>...</td>\n      <td>0.0</td>\n      <td>134.0</td>\n      <td>126.0</td>\n      <td>106.0</td>\n      <td>846.0</td>\n      <td>NaN</td>\n      <td>NaN</td>\n      <td>NaN</td>\n      <td>NaN</td>\n      <td>NaN</td>\n    </tr>\n    <tr>\n      <th>3</th>\n      <td>2018-01-01</td>\n      <td>UA</td>\n      <td>2425</td>\n      <td>RSW</td>\n      <td>ORD</td>\n      <td>1546</td>\n      <td>1552.0</td>\n      <td>6.0</td>\n      <td>19.0</td>\n      <td>1611.0</td>\n      <td>...</td>\n      <td>0.0</td>\n      <td>190.0</td>\n      <td>182.0</td>\n      <td>157.0</td>\n      <td>1120.0</td>\n      <td>NaN</td>\n      <td>NaN</td>\n      <td>NaN</td>\n      <td>NaN</td>\n      <td>NaN</td>\n    </tr>\n    <tr>\n      <th>4</th>\n      <td>2018-01-01</td>\n      <td>UA</td>\n      <td>2424</td>\n      <td>ORD</td>\n      <td>ALB</td>\n      <td>630</td>\n      <td>650.0</td>\n      <td>20.0</td>\n      <td>13.0</td>\n      <td>703.0</td>\n      <td>...</td>\n      <td>0.0</td>\n      <td>112.0</td>\n      <td>106.0</td>\n      <td>83.0</td>\n      <td>723.0</td>\n      <td>NaN</td>\n      <td>NaN</td>\n      <td>NaN</td>\n      <td>NaN</td>\n      <td>NaN</td>\n    </tr>\n  </tbody>\n</table>\n<p>5 rows × 27 columns</p>\n</div>"
     },
     "execution_count": 7,
     "metadata": {},
     "output_type": "execute_result"
    }
   ],
   "source": [
    "df_recent.head()"
   ]
  },
  {
   "cell_type": "code",
   "execution_count": 8,
   "metadata": {},
   "outputs": [],
   "source": [
    "delay_cols = ['carrier_delay', 'weather_delay', 'nas_delay', 'security_delay', 'late_aircraft_delay']"
   ]
  },
  {
   "cell_type": "code",
   "execution_count": 9,
   "metadata": {},
   "outputs": [
    {
     "data": {
      "text/plain": "      fl_date op_carrier  op_carrier_fl_num origin dest  crs_dep_time  \\\n15 2009-01-01         XE               1233    EWR  ORD          1000   \n43 2009-01-01         XE               2042    IAH  BHM          1905   \n45 2009-01-01         XE               2044    IAH  CLT          1735   \n57 2009-01-01         XE               2060    IAH  CVG          1855   \n69 2009-01-01         XE               2081    COS  IAH           605   \n\n    dep_time  dep_delay  taxi_out  wheels_off  ...  diverted  \\\n15    1035.0       35.0      14.0      1049.0  ...       0.0   \n43    1909.0        4.0      42.0      1951.0  ...       0.0   \n45    1800.0       25.0       9.0      1809.0  ...       0.0   \n57    1901.0        6.0      40.0      1941.0  ...       0.0   \n69     608.0        3.0      44.0       652.0  ...       0.0   \n\n    crs_elapsed_time  actual_elapsed_time  air_time  distance  carrier_delay  \\\n15             159.0                151.0     127.0     719.0            0.0   \n43             102.0                125.0      80.0     562.0            0.0   \n45             145.0                135.0     119.0     913.0           15.0   \n57             135.0                161.0     114.0     871.0            0.0   \n69             147.0                171.0     109.0     809.0            0.0   \n\n   weather_delay  nas_delay  security_delay  late_aircraft_delay  \n15          27.0        0.0             0.0                  0.0  \n43           0.0       27.0             0.0                  0.0  \n45           0.0        0.0             0.0                  0.0  \n57           0.0       26.0             6.0                  0.0  \n69           0.0       27.0             0.0                  0.0  \n\n[5 rows x 27 columns]",
      "text/html": "<div>\n<style scoped>\n    .dataframe tbody tr th:only-of-type {\n        vertical-align: middle;\n    }\n\n    .dataframe tbody tr th {\n        vertical-align: top;\n    }\n\n    .dataframe thead th {\n        text-align: right;\n    }\n</style>\n<table border=\"1\" class=\"dataframe\">\n  <thead>\n    <tr style=\"text-align: right;\">\n      <th></th>\n      <th>fl_date</th>\n      <th>op_carrier</th>\n      <th>op_carrier_fl_num</th>\n      <th>origin</th>\n      <th>dest</th>\n      <th>crs_dep_time</th>\n      <th>dep_time</th>\n      <th>dep_delay</th>\n      <th>taxi_out</th>\n      <th>wheels_off</th>\n      <th>...</th>\n      <th>diverted</th>\n      <th>crs_elapsed_time</th>\n      <th>actual_elapsed_time</th>\n      <th>air_time</th>\n      <th>distance</th>\n      <th>carrier_delay</th>\n      <th>weather_delay</th>\n      <th>nas_delay</th>\n      <th>security_delay</th>\n      <th>late_aircraft_delay</th>\n    </tr>\n  </thead>\n  <tbody>\n    <tr>\n      <th>15</th>\n      <td>2009-01-01</td>\n      <td>XE</td>\n      <td>1233</td>\n      <td>EWR</td>\n      <td>ORD</td>\n      <td>1000</td>\n      <td>1035.0</td>\n      <td>35.0</td>\n      <td>14.0</td>\n      <td>1049.0</td>\n      <td>...</td>\n      <td>0.0</td>\n      <td>159.0</td>\n      <td>151.0</td>\n      <td>127.0</td>\n      <td>719.0</td>\n      <td>0.0</td>\n      <td>27.0</td>\n      <td>0.0</td>\n      <td>0.0</td>\n      <td>0.0</td>\n    </tr>\n    <tr>\n      <th>43</th>\n      <td>2009-01-01</td>\n      <td>XE</td>\n      <td>2042</td>\n      <td>IAH</td>\n      <td>BHM</td>\n      <td>1905</td>\n      <td>1909.0</td>\n      <td>4.0</td>\n      <td>42.0</td>\n      <td>1951.0</td>\n      <td>...</td>\n      <td>0.0</td>\n      <td>102.0</td>\n      <td>125.0</td>\n      <td>80.0</td>\n      <td>562.0</td>\n      <td>0.0</td>\n      <td>0.0</td>\n      <td>27.0</td>\n      <td>0.0</td>\n      <td>0.0</td>\n    </tr>\n    <tr>\n      <th>45</th>\n      <td>2009-01-01</td>\n      <td>XE</td>\n      <td>2044</td>\n      <td>IAH</td>\n      <td>CLT</td>\n      <td>1735</td>\n      <td>1800.0</td>\n      <td>25.0</td>\n      <td>9.0</td>\n      <td>1809.0</td>\n      <td>...</td>\n      <td>0.0</td>\n      <td>145.0</td>\n      <td>135.0</td>\n      <td>119.0</td>\n      <td>913.0</td>\n      <td>15.0</td>\n      <td>0.0</td>\n      <td>0.0</td>\n      <td>0.0</td>\n      <td>0.0</td>\n    </tr>\n    <tr>\n      <th>57</th>\n      <td>2009-01-01</td>\n      <td>XE</td>\n      <td>2060</td>\n      <td>IAH</td>\n      <td>CVG</td>\n      <td>1855</td>\n      <td>1901.0</td>\n      <td>6.0</td>\n      <td>40.0</td>\n      <td>1941.0</td>\n      <td>...</td>\n      <td>0.0</td>\n      <td>135.0</td>\n      <td>161.0</td>\n      <td>114.0</td>\n      <td>871.0</td>\n      <td>0.0</td>\n      <td>0.0</td>\n      <td>26.0</td>\n      <td>6.0</td>\n      <td>0.0</td>\n    </tr>\n    <tr>\n      <th>69</th>\n      <td>2009-01-01</td>\n      <td>XE</td>\n      <td>2081</td>\n      <td>COS</td>\n      <td>IAH</td>\n      <td>605</td>\n      <td>608.0</td>\n      <td>3.0</td>\n      <td>44.0</td>\n      <td>652.0</td>\n      <td>...</td>\n      <td>0.0</td>\n      <td>147.0</td>\n      <td>171.0</td>\n      <td>109.0</td>\n      <td>809.0</td>\n      <td>0.0</td>\n      <td>0.0</td>\n      <td>27.0</td>\n      <td>0.0</td>\n      <td>0.0</td>\n    </tr>\n  </tbody>\n</table>\n<p>5 rows × 27 columns</p>\n</div>"
     },
     "execution_count": 9,
     "metadata": {},
     "output_type": "execute_result"
    }
   ],
   "source": [
    "df_old_delay = df_old[df_old[delay_cols].notnull().any(axis=1)]\n",
    "df_old_delay.head()"
   ]
  },
  {
   "cell_type": "code",
   "execution_count": 10,
   "metadata": {},
   "outputs": [
    {
     "data": {
      "text/plain": "      fl_date op_carrier  op_carrier_fl_num origin dest  crs_dep_time  \\\n11 2018-01-01         UA               2416    ORD  CLE          2059   \n14 2018-01-01         UA               2413    ORD  BTV          2114   \n15 2018-01-01         UA               2412    MCO  LAX           653   \n16 2018-01-01         UA               2411    EWR  SMF          1810   \n17 2018-01-01         UA               2410    RSW  EWR          1250   \n\n    dep_time  dep_delay  taxi_out  wheels_off  ...  diverted  \\\n11    2300.0      121.0      24.0      2324.0  ...       0.0   \n14    2230.0       76.0      14.0      2244.0  ...       0.0   \n15     747.0       54.0      14.0       801.0  ...       0.0   \n16    1922.0       72.0      16.0      1938.0  ...       0.0   \n17    1337.0       47.0      12.0      1349.0  ...       0.0   \n\n    crs_elapsed_time  actual_elapsed_time  air_time  distance  carrier_delay  \\\n11              72.0                 80.0      48.0     316.0          121.0   \n14             121.0                118.0      99.0     763.0            0.0   \n15             337.0                338.0     302.0    2218.0           54.0   \n16             386.0                339.0     319.0    2500.0            7.0   \n17             167.0                149.0     131.0    1068.0           29.0   \n\n   weather_delay  nas_delay  security_delay  late_aircraft_delay  \n11           0.0        8.0             0.0                  0.0  \n14          11.0        0.0             0.0                 62.0  \n15           0.0        1.0             0.0                  0.0  \n16           0.0        0.0             0.0                 18.0  \n17           0.0        0.0             0.0                  0.0  \n\n[5 rows x 27 columns]",
      "text/html": "<div>\n<style scoped>\n    .dataframe tbody tr th:only-of-type {\n        vertical-align: middle;\n    }\n\n    .dataframe tbody tr th {\n        vertical-align: top;\n    }\n\n    .dataframe thead th {\n        text-align: right;\n    }\n</style>\n<table border=\"1\" class=\"dataframe\">\n  <thead>\n    <tr style=\"text-align: right;\">\n      <th></th>\n      <th>fl_date</th>\n      <th>op_carrier</th>\n      <th>op_carrier_fl_num</th>\n      <th>origin</th>\n      <th>dest</th>\n      <th>crs_dep_time</th>\n      <th>dep_time</th>\n      <th>dep_delay</th>\n      <th>taxi_out</th>\n      <th>wheels_off</th>\n      <th>...</th>\n      <th>diverted</th>\n      <th>crs_elapsed_time</th>\n      <th>actual_elapsed_time</th>\n      <th>air_time</th>\n      <th>distance</th>\n      <th>carrier_delay</th>\n      <th>weather_delay</th>\n      <th>nas_delay</th>\n      <th>security_delay</th>\n      <th>late_aircraft_delay</th>\n    </tr>\n  </thead>\n  <tbody>\n    <tr>\n      <th>11</th>\n      <td>2018-01-01</td>\n      <td>UA</td>\n      <td>2416</td>\n      <td>ORD</td>\n      <td>CLE</td>\n      <td>2059</td>\n      <td>2300.0</td>\n      <td>121.0</td>\n      <td>24.0</td>\n      <td>2324.0</td>\n      <td>...</td>\n      <td>0.0</td>\n      <td>72.0</td>\n      <td>80.0</td>\n      <td>48.0</td>\n      <td>316.0</td>\n      <td>121.0</td>\n      <td>0.0</td>\n      <td>8.0</td>\n      <td>0.0</td>\n      <td>0.0</td>\n    </tr>\n    <tr>\n      <th>14</th>\n      <td>2018-01-01</td>\n      <td>UA</td>\n      <td>2413</td>\n      <td>ORD</td>\n      <td>BTV</td>\n      <td>2114</td>\n      <td>2230.0</td>\n      <td>76.0</td>\n      <td>14.0</td>\n      <td>2244.0</td>\n      <td>...</td>\n      <td>0.0</td>\n      <td>121.0</td>\n      <td>118.0</td>\n      <td>99.0</td>\n      <td>763.0</td>\n      <td>0.0</td>\n      <td>11.0</td>\n      <td>0.0</td>\n      <td>0.0</td>\n      <td>62.0</td>\n    </tr>\n    <tr>\n      <th>15</th>\n      <td>2018-01-01</td>\n      <td>UA</td>\n      <td>2412</td>\n      <td>MCO</td>\n      <td>LAX</td>\n      <td>653</td>\n      <td>747.0</td>\n      <td>54.0</td>\n      <td>14.0</td>\n      <td>801.0</td>\n      <td>...</td>\n      <td>0.0</td>\n      <td>337.0</td>\n      <td>338.0</td>\n      <td>302.0</td>\n      <td>2218.0</td>\n      <td>54.0</td>\n      <td>0.0</td>\n      <td>1.0</td>\n      <td>0.0</td>\n      <td>0.0</td>\n    </tr>\n    <tr>\n      <th>16</th>\n      <td>2018-01-01</td>\n      <td>UA</td>\n      <td>2411</td>\n      <td>EWR</td>\n      <td>SMF</td>\n      <td>1810</td>\n      <td>1922.0</td>\n      <td>72.0</td>\n      <td>16.0</td>\n      <td>1938.0</td>\n      <td>...</td>\n      <td>0.0</td>\n      <td>386.0</td>\n      <td>339.0</td>\n      <td>319.0</td>\n      <td>2500.0</td>\n      <td>7.0</td>\n      <td>0.0</td>\n      <td>0.0</td>\n      <td>0.0</td>\n      <td>18.0</td>\n    </tr>\n    <tr>\n      <th>17</th>\n      <td>2018-01-01</td>\n      <td>UA</td>\n      <td>2410</td>\n      <td>RSW</td>\n      <td>EWR</td>\n      <td>1250</td>\n      <td>1337.0</td>\n      <td>47.0</td>\n      <td>12.0</td>\n      <td>1349.0</td>\n      <td>...</td>\n      <td>0.0</td>\n      <td>167.0</td>\n      <td>149.0</td>\n      <td>131.0</td>\n      <td>1068.0</td>\n      <td>29.0</td>\n      <td>0.0</td>\n      <td>0.0</td>\n      <td>0.0</td>\n      <td>0.0</td>\n    </tr>\n  </tbody>\n</table>\n<p>5 rows × 27 columns</p>\n</div>"
     },
     "execution_count": 10,
     "metadata": {},
     "output_type": "execute_result"
    }
   ],
   "source": [
    "df_recent_delay = df_recent[df_recent[delay_cols].notnull().any(axis=1)]\n",
    "df_recent_delay.head()"
   ]
  },
  {
   "cell_type": "code",
   "execution_count": 11,
   "metadata": {},
   "outputs": [
    {
     "data": {
      "text/plain": "            carrier_delay  weather_delay  nas_delay  security_delay  \\\nfl_date                                                               \n2018-01-01       136880.0        18837.0    37809.0           599.0   \n2018-01-02       116658.0        18371.0    46831.0          2009.0   \n2018-01-03        90974.0        10145.0    39419.0           286.0   \n2018-01-04        59152.0        19048.0    26250.0           203.0   \n2018-01-05       115955.0        27529.0    69070.0           426.0   \n...                   ...            ...        ...             ...   \n2018-12-27       140158.0        47757.0    82019.0           334.0   \n2018-12-28       156635.0        27098.0    91932.0           555.0   \n2018-12-29       104590.0        10948.0    43042.0           678.0   \n2018-12-30        83003.0        11472.0    28889.0           735.0   \n2018-12-31        78005.0        12978.0    40987.0           866.0   \n\n            late_aircraft_delay  \nfl_date                          \n2018-01-01             155361.0  \n2018-01-02             145021.0  \n2018-01-03              96793.0  \n2018-01-04              50528.0  \n2018-01-05             132249.0  \n...                         ...  \n2018-12-27             238597.0  \n2018-12-28             232291.0  \n2018-12-29             124640.0  \n2018-12-30              91707.0  \n2018-12-31              83052.0  \n\n[365 rows x 5 columns]",
      "text/html": "<div>\n<style scoped>\n    .dataframe tbody tr th:only-of-type {\n        vertical-align: middle;\n    }\n\n    .dataframe tbody tr th {\n        vertical-align: top;\n    }\n\n    .dataframe thead th {\n        text-align: right;\n    }\n</style>\n<table border=\"1\" class=\"dataframe\">\n  <thead>\n    <tr style=\"text-align: right;\">\n      <th></th>\n      <th>carrier_delay</th>\n      <th>weather_delay</th>\n      <th>nas_delay</th>\n      <th>security_delay</th>\n      <th>late_aircraft_delay</th>\n    </tr>\n    <tr>\n      <th>fl_date</th>\n      <th></th>\n      <th></th>\n      <th></th>\n      <th></th>\n      <th></th>\n    </tr>\n  </thead>\n  <tbody>\n    <tr>\n      <th>2018-01-01</th>\n      <td>136880.0</td>\n      <td>18837.0</td>\n      <td>37809.0</td>\n      <td>599.0</td>\n      <td>155361.0</td>\n    </tr>\n    <tr>\n      <th>2018-01-02</th>\n      <td>116658.0</td>\n      <td>18371.0</td>\n      <td>46831.0</td>\n      <td>2009.0</td>\n      <td>145021.0</td>\n    </tr>\n    <tr>\n      <th>2018-01-03</th>\n      <td>90974.0</td>\n      <td>10145.0</td>\n      <td>39419.0</td>\n      <td>286.0</td>\n      <td>96793.0</td>\n    </tr>\n    <tr>\n      <th>2018-01-04</th>\n      <td>59152.0</td>\n      <td>19048.0</td>\n      <td>26250.0</td>\n      <td>203.0</td>\n      <td>50528.0</td>\n    </tr>\n    <tr>\n      <th>2018-01-05</th>\n      <td>115955.0</td>\n      <td>27529.0</td>\n      <td>69070.0</td>\n      <td>426.0</td>\n      <td>132249.0</td>\n    </tr>\n    <tr>\n      <th>...</th>\n      <td>...</td>\n      <td>...</td>\n      <td>...</td>\n      <td>...</td>\n      <td>...</td>\n    </tr>\n    <tr>\n      <th>2018-12-27</th>\n      <td>140158.0</td>\n      <td>47757.0</td>\n      <td>82019.0</td>\n      <td>334.0</td>\n      <td>238597.0</td>\n    </tr>\n    <tr>\n      <th>2018-12-28</th>\n      <td>156635.0</td>\n      <td>27098.0</td>\n      <td>91932.0</td>\n      <td>555.0</td>\n      <td>232291.0</td>\n    </tr>\n    <tr>\n      <th>2018-12-29</th>\n      <td>104590.0</td>\n      <td>10948.0</td>\n      <td>43042.0</td>\n      <td>678.0</td>\n      <td>124640.0</td>\n    </tr>\n    <tr>\n      <th>2018-12-30</th>\n      <td>83003.0</td>\n      <td>11472.0</td>\n      <td>28889.0</td>\n      <td>735.0</td>\n      <td>91707.0</td>\n    </tr>\n    <tr>\n      <th>2018-12-31</th>\n      <td>78005.0</td>\n      <td>12978.0</td>\n      <td>40987.0</td>\n      <td>866.0</td>\n      <td>83052.0</td>\n    </tr>\n  </tbody>\n</table>\n<p>365 rows × 5 columns</p>\n</div>"
     },
     "execution_count": 11,
     "metadata": {},
     "output_type": "execute_result"
    }
   ],
   "source": [
    "df_recent_delay[delay_cols + ['fl_date']].groupby(by='fl_date').sum()"
   ]
  },
  {
   "cell_type": "code",
   "execution_count": 12,
   "metadata": {},
   "outputs": [
    {
     "data": {
      "text/plain": "fl_date                      0\nop_carrier                   0\nop_carrier_fl_num            0\norigin                       0\ndest                         0\ncrs_dep_time                 0\ndep_time                 82867\ndep_delay                82867\ntaxi_out                 85787\nwheels_off               85787\nwheels_on                89322\ntaxi_in                  89321\ncrs_arr_time                 0\narr_time                 89322\narr_delay               102361\ncancelled                    0\ncancellation_code      6342300\ndiverted                     0\ncrs_elapsed_time             0\nactual_elapsed_time     102362\nair_time                102361\ndistance                     0\ncarrier_delay          5258837\nweather_delay          5258837\nnas_delay              5258837\nsecurity_delay         5258837\nlate_aircraft_delay    5258837\ndtype: int64"
     },
     "execution_count": 12,
     "metadata": {},
     "output_type": "execute_result"
    }
   ],
   "source": [
    "df_old.isnull().sum()"
   ]
  },
  {
   "cell_type": "code",
   "execution_count": 13,
   "metadata": {},
   "outputs": [
    {
     "data": {
      "text/plain": "           fl_date op_carrier  op_carrier_fl_num origin dest  crs_dep_time  \\\n879     2009-01-01         YV               7104    DEN  CPR          2150   \n926     2009-01-01         YV               7329    DTW  ORD          1857   \n935     2009-01-01         YV               7065    EWR  IAD          1013   \n938     2009-01-01         YV               2984    FAT  LAS           710   \n941     2009-01-01         YV               2823    FAT  PHX           920   \n...            ...        ...                ...    ...  ...           ...   \n6428997 2009-12-31         YV               7302    IAD  TYS           840   \n6429170 2009-12-31         YV               7204    ORF  IAD          1227   \n6429268 2009-12-31         YV               7194    PVD  IAD          1416   \n6429272 2009-12-31         YV               7177    RDU  IAD          1016   \n6429276 2009-12-31         YV               7290    ROA  IAD           611   \n\n         dep_time  dep_delay  taxi_out  wheels_off  ...  diverted  \\\n879           NaN        NaN       NaN         NaN  ...       0.0   \n926           NaN        NaN       NaN         NaN  ...       0.0   \n935           NaN        NaN       NaN         NaN  ...       0.0   \n938           NaN        NaN       NaN         NaN  ...       0.0   \n941           NaN        NaN       NaN         NaN  ...       0.0   \n...           ...        ...       ...         ...  ...       ...   \n6428997       NaN        NaN       NaN         NaN  ...       0.0   \n6429170       NaN        NaN       NaN         NaN  ...       0.0   \n6429268       NaN        NaN       NaN         NaN  ...       0.0   \n6429272       NaN        NaN       NaN         NaN  ...       0.0   \n6429276       NaN        NaN       NaN         NaN  ...       0.0   \n\n         crs_elapsed_time  actual_elapsed_time  air_time  distance  \\\n879                  82.0                  NaN       NaN     230.0   \n926                  77.0                  NaN       NaN     235.0   \n935                  86.0                  NaN       NaN     213.0   \n938                  70.0                  NaN       NaN     258.0   \n941                 105.0                  NaN       NaN     493.0   \n...                   ...                  ...       ...       ...   \n6428997              94.0                  NaN       NaN     419.0   \n6429170              56.0                  NaN       NaN     157.0   \n6429268              93.0                  NaN       NaN     372.0   \n6429272              61.0                  NaN       NaN     224.0   \n6429276              64.0                  NaN       NaN     177.0   \n\n         carrier_delay weather_delay  nas_delay  security_delay  \\\n879                NaN           NaN        NaN             NaN   \n926                NaN           NaN        NaN             NaN   \n935                NaN           NaN        NaN             NaN   \n938                NaN           NaN        NaN             NaN   \n941                NaN           NaN        NaN             NaN   \n...                ...           ...        ...             ...   \n6428997            NaN           NaN        NaN             NaN   \n6429170            NaN           NaN        NaN             NaN   \n6429268            NaN           NaN        NaN             NaN   \n6429272            NaN           NaN        NaN             NaN   \n6429276            NaN           NaN        NaN             NaN   \n\n         late_aircraft_delay  \n879                      NaN  \n926                      NaN  \n935                      NaN  \n938                      NaN  \n941                      NaN  \n...                      ...  \n6428997                  NaN  \n6429170                  NaN  \n6429268                  NaN  \n6429272                  NaN  \n6429276                  NaN  \n\n[82867 rows x 27 columns]",
      "text/html": "<div>\n<style scoped>\n    .dataframe tbody tr th:only-of-type {\n        vertical-align: middle;\n    }\n\n    .dataframe tbody tr th {\n        vertical-align: top;\n    }\n\n    .dataframe thead th {\n        text-align: right;\n    }\n</style>\n<table border=\"1\" class=\"dataframe\">\n  <thead>\n    <tr style=\"text-align: right;\">\n      <th></th>\n      <th>fl_date</th>\n      <th>op_carrier</th>\n      <th>op_carrier_fl_num</th>\n      <th>origin</th>\n      <th>dest</th>\n      <th>crs_dep_time</th>\n      <th>dep_time</th>\n      <th>dep_delay</th>\n      <th>taxi_out</th>\n      <th>wheels_off</th>\n      <th>...</th>\n      <th>diverted</th>\n      <th>crs_elapsed_time</th>\n      <th>actual_elapsed_time</th>\n      <th>air_time</th>\n      <th>distance</th>\n      <th>carrier_delay</th>\n      <th>weather_delay</th>\n      <th>nas_delay</th>\n      <th>security_delay</th>\n      <th>late_aircraft_delay</th>\n    </tr>\n  </thead>\n  <tbody>\n    <tr>\n      <th>879</th>\n      <td>2009-01-01</td>\n      <td>YV</td>\n      <td>7104</td>\n      <td>DEN</td>\n      <td>CPR</td>\n      <td>2150</td>\n      <td>NaN</td>\n      <td>NaN</td>\n      <td>NaN</td>\n      <td>NaN</td>\n      <td>...</td>\n      <td>0.0</td>\n      <td>82.0</td>\n      <td>NaN</td>\n      <td>NaN</td>\n      <td>230.0</td>\n      <td>NaN</td>\n      <td>NaN</td>\n      <td>NaN</td>\n      <td>NaN</td>\n      <td>NaN</td>\n    </tr>\n    <tr>\n      <th>926</th>\n      <td>2009-01-01</td>\n      <td>YV</td>\n      <td>7329</td>\n      <td>DTW</td>\n      <td>ORD</td>\n      <td>1857</td>\n      <td>NaN</td>\n      <td>NaN</td>\n      <td>NaN</td>\n      <td>NaN</td>\n      <td>...</td>\n      <td>0.0</td>\n      <td>77.0</td>\n      <td>NaN</td>\n      <td>NaN</td>\n      <td>235.0</td>\n      <td>NaN</td>\n      <td>NaN</td>\n      <td>NaN</td>\n      <td>NaN</td>\n      <td>NaN</td>\n    </tr>\n    <tr>\n      <th>935</th>\n      <td>2009-01-01</td>\n      <td>YV</td>\n      <td>7065</td>\n      <td>EWR</td>\n      <td>IAD</td>\n      <td>1013</td>\n      <td>NaN</td>\n      <td>NaN</td>\n      <td>NaN</td>\n      <td>NaN</td>\n      <td>...</td>\n      <td>0.0</td>\n      <td>86.0</td>\n      <td>NaN</td>\n      <td>NaN</td>\n      <td>213.0</td>\n      <td>NaN</td>\n      <td>NaN</td>\n      <td>NaN</td>\n      <td>NaN</td>\n      <td>NaN</td>\n    </tr>\n    <tr>\n      <th>938</th>\n      <td>2009-01-01</td>\n      <td>YV</td>\n      <td>2984</td>\n      <td>FAT</td>\n      <td>LAS</td>\n      <td>710</td>\n      <td>NaN</td>\n      <td>NaN</td>\n      <td>NaN</td>\n      <td>NaN</td>\n      <td>...</td>\n      <td>0.0</td>\n      <td>70.0</td>\n      <td>NaN</td>\n      <td>NaN</td>\n      <td>258.0</td>\n      <td>NaN</td>\n      <td>NaN</td>\n      <td>NaN</td>\n      <td>NaN</td>\n      <td>NaN</td>\n    </tr>\n    <tr>\n      <th>941</th>\n      <td>2009-01-01</td>\n      <td>YV</td>\n      <td>2823</td>\n      <td>FAT</td>\n      <td>PHX</td>\n      <td>920</td>\n      <td>NaN</td>\n      <td>NaN</td>\n      <td>NaN</td>\n      <td>NaN</td>\n      <td>...</td>\n      <td>0.0</td>\n      <td>105.0</td>\n      <td>NaN</td>\n      <td>NaN</td>\n      <td>493.0</td>\n      <td>NaN</td>\n      <td>NaN</td>\n      <td>NaN</td>\n      <td>NaN</td>\n      <td>NaN</td>\n    </tr>\n    <tr>\n      <th>...</th>\n      <td>...</td>\n      <td>...</td>\n      <td>...</td>\n      <td>...</td>\n      <td>...</td>\n      <td>...</td>\n      <td>...</td>\n      <td>...</td>\n      <td>...</td>\n      <td>...</td>\n      <td>...</td>\n      <td>...</td>\n      <td>...</td>\n      <td>...</td>\n      <td>...</td>\n      <td>...</td>\n      <td>...</td>\n      <td>...</td>\n      <td>...</td>\n      <td>...</td>\n      <td>...</td>\n    </tr>\n    <tr>\n      <th>6428997</th>\n      <td>2009-12-31</td>\n      <td>YV</td>\n      <td>7302</td>\n      <td>IAD</td>\n      <td>TYS</td>\n      <td>840</td>\n      <td>NaN</td>\n      <td>NaN</td>\n      <td>NaN</td>\n      <td>NaN</td>\n      <td>...</td>\n      <td>0.0</td>\n      <td>94.0</td>\n      <td>NaN</td>\n      <td>NaN</td>\n      <td>419.0</td>\n      <td>NaN</td>\n      <td>NaN</td>\n      <td>NaN</td>\n      <td>NaN</td>\n      <td>NaN</td>\n    </tr>\n    <tr>\n      <th>6429170</th>\n      <td>2009-12-31</td>\n      <td>YV</td>\n      <td>7204</td>\n      <td>ORF</td>\n      <td>IAD</td>\n      <td>1227</td>\n      <td>NaN</td>\n      <td>NaN</td>\n      <td>NaN</td>\n      <td>NaN</td>\n      <td>...</td>\n      <td>0.0</td>\n      <td>56.0</td>\n      <td>NaN</td>\n      <td>NaN</td>\n      <td>157.0</td>\n      <td>NaN</td>\n      <td>NaN</td>\n      <td>NaN</td>\n      <td>NaN</td>\n      <td>NaN</td>\n    </tr>\n    <tr>\n      <th>6429268</th>\n      <td>2009-12-31</td>\n      <td>YV</td>\n      <td>7194</td>\n      <td>PVD</td>\n      <td>IAD</td>\n      <td>1416</td>\n      <td>NaN</td>\n      <td>NaN</td>\n      <td>NaN</td>\n      <td>NaN</td>\n      <td>...</td>\n      <td>0.0</td>\n      <td>93.0</td>\n      <td>NaN</td>\n      <td>NaN</td>\n      <td>372.0</td>\n      <td>NaN</td>\n      <td>NaN</td>\n      <td>NaN</td>\n      <td>NaN</td>\n      <td>NaN</td>\n    </tr>\n    <tr>\n      <th>6429272</th>\n      <td>2009-12-31</td>\n      <td>YV</td>\n      <td>7177</td>\n      <td>RDU</td>\n      <td>IAD</td>\n      <td>1016</td>\n      <td>NaN</td>\n      <td>NaN</td>\n      <td>NaN</td>\n      <td>NaN</td>\n      <td>...</td>\n      <td>0.0</td>\n      <td>61.0</td>\n      <td>NaN</td>\n      <td>NaN</td>\n      <td>224.0</td>\n      <td>NaN</td>\n      <td>NaN</td>\n      <td>NaN</td>\n      <td>NaN</td>\n      <td>NaN</td>\n    </tr>\n    <tr>\n      <th>6429276</th>\n      <td>2009-12-31</td>\n      <td>YV</td>\n      <td>7290</td>\n      <td>ROA</td>\n      <td>IAD</td>\n      <td>611</td>\n      <td>NaN</td>\n      <td>NaN</td>\n      <td>NaN</td>\n      <td>NaN</td>\n      <td>...</td>\n      <td>0.0</td>\n      <td>64.0</td>\n      <td>NaN</td>\n      <td>NaN</td>\n      <td>177.0</td>\n      <td>NaN</td>\n      <td>NaN</td>\n      <td>NaN</td>\n      <td>NaN</td>\n      <td>NaN</td>\n    </tr>\n  </tbody>\n</table>\n<p>82867 rows × 27 columns</p>\n</div>"
     },
     "execution_count": 13,
     "metadata": {},
     "output_type": "execute_result"
    }
   ],
   "source": [
    "df_old[df_old['dep_time'].isnull() & df_old['cancelled'] == 1]"
   ]
  },
  {
   "cell_type": "code",
   "execution_count": 14,
   "metadata": {},
   "outputs": [
    {
     "data": {
      "text/plain": "           fl_date op_carrier  op_carrier_fl_num origin dest  crs_dep_time  \\\n20      2009-01-01         XE               1266    EWR  ATL           630   \n32      2009-01-01         XE               2025    IAH  ABQ          1445   \n34      2009-01-01         XE               2028    IAH  TYS          1900   \n87      2009-01-01         XE               2105    IAH  GRR          1300   \n98      2009-01-01         XE               2126    CMH  EWR          1715   \n...            ...        ...                ...    ...  ...           ...   \n6429312 2009-12-31         YV               2808    SNA  PHX          1115   \n6429313 2009-12-31         YV               2661    SRQ  CLT           655   \n6429323 2009-12-31         YV               2878    TUS  PHX          1125   \n6429327 2009-12-31         YV               7059    TVC  ORD          1103   \n6429335 2009-12-31         YV               2866    YUM  PHX          1400   \n\n         dep_time  dep_delay  taxi_out  wheels_off  ...  diverted  \\\n20          630.0        0.0      15.0       645.0  ...       0.0   \n32         1445.0        0.0      12.0      1457.0  ...       0.0   \n34         1900.0        0.0      27.0      1927.0  ...       0.0   \n87         1300.0        0.0      16.0      1316.0  ...       0.0   \n98         1715.0        0.0       8.0      1723.0  ...       0.0   \n...           ...        ...       ...         ...  ...       ...   \n6429312    1115.0        0.0      12.0      1127.0  ...       0.0   \n6429313     655.0        0.0      16.0       711.0  ...       0.0   \n6429323    1125.0        0.0      13.0      1138.0  ...       0.0   \n6429327    1103.0        0.0      14.0      1117.0  ...       0.0   \n6429335    1400.0        0.0      29.0      1429.0  ...       0.0   \n\n         crs_elapsed_time  actual_elapsed_time  air_time  distance  \\\n20                  161.0                149.0     125.0     745.0   \n32                  139.0                125.0     109.0     744.0   \n34                  124.0                135.0     100.0     772.0   \n87                  160.0                150.0     129.0    1042.0   \n98                  113.0                137.0      84.0     462.0   \n...                   ...                  ...       ...       ...   \n6429312              76.0                 67.0      50.0     338.0   \n6429313             106.0                120.0      96.0     547.0   \n6429323              52.0                 55.0      35.0     110.0   \n6429327              77.0                 75.0      48.0     224.0   \n6429335              55.0                 70.0      32.0     160.0   \n\n         carrier_delay weather_delay  nas_delay  security_delay  \\\n20                 NaN           NaN        NaN             NaN   \n32                 NaN           NaN        NaN             NaN   \n34                 NaN           NaN        NaN             NaN   \n87                 NaN           NaN        NaN             NaN   \n98                 0.0           0.0       24.0             0.0   \n...                ...           ...        ...             ...   \n6429312            NaN           NaN        NaN             NaN   \n6429313            NaN           NaN        NaN             NaN   \n6429323            NaN           NaN        NaN             NaN   \n6429327            NaN           NaN        NaN             NaN   \n6429335            0.0           0.0       15.0             0.0   \n\n         late_aircraft_delay  \n20                       NaN  \n32                       NaN  \n34                       NaN  \n87                       NaN  \n98                       0.0  \n...                      ...  \n6429312                  NaN  \n6429313                  NaN  \n6429323                  NaN  \n6429327                  NaN  \n6429335                  0.0  \n\n[467818 rows x 27 columns]",
      "text/html": "<div>\n<style scoped>\n    .dataframe tbody tr th:only-of-type {\n        vertical-align: middle;\n    }\n\n    .dataframe tbody tr th {\n        vertical-align: top;\n    }\n\n    .dataframe thead th {\n        text-align: right;\n    }\n</style>\n<table border=\"1\" class=\"dataframe\">\n  <thead>\n    <tr style=\"text-align: right;\">\n      <th></th>\n      <th>fl_date</th>\n      <th>op_carrier</th>\n      <th>op_carrier_fl_num</th>\n      <th>origin</th>\n      <th>dest</th>\n      <th>crs_dep_time</th>\n      <th>dep_time</th>\n      <th>dep_delay</th>\n      <th>taxi_out</th>\n      <th>wheels_off</th>\n      <th>...</th>\n      <th>diverted</th>\n      <th>crs_elapsed_time</th>\n      <th>actual_elapsed_time</th>\n      <th>air_time</th>\n      <th>distance</th>\n      <th>carrier_delay</th>\n      <th>weather_delay</th>\n      <th>nas_delay</th>\n      <th>security_delay</th>\n      <th>late_aircraft_delay</th>\n    </tr>\n  </thead>\n  <tbody>\n    <tr>\n      <th>20</th>\n      <td>2009-01-01</td>\n      <td>XE</td>\n      <td>1266</td>\n      <td>EWR</td>\n      <td>ATL</td>\n      <td>630</td>\n      <td>630.0</td>\n      <td>0.0</td>\n      <td>15.0</td>\n      <td>645.0</td>\n      <td>...</td>\n      <td>0.0</td>\n      <td>161.0</td>\n      <td>149.0</td>\n      <td>125.0</td>\n      <td>745.0</td>\n      <td>NaN</td>\n      <td>NaN</td>\n      <td>NaN</td>\n      <td>NaN</td>\n      <td>NaN</td>\n    </tr>\n    <tr>\n      <th>32</th>\n      <td>2009-01-01</td>\n      <td>XE</td>\n      <td>2025</td>\n      <td>IAH</td>\n      <td>ABQ</td>\n      <td>1445</td>\n      <td>1445.0</td>\n      <td>0.0</td>\n      <td>12.0</td>\n      <td>1457.0</td>\n      <td>...</td>\n      <td>0.0</td>\n      <td>139.0</td>\n      <td>125.0</td>\n      <td>109.0</td>\n      <td>744.0</td>\n      <td>NaN</td>\n      <td>NaN</td>\n      <td>NaN</td>\n      <td>NaN</td>\n      <td>NaN</td>\n    </tr>\n    <tr>\n      <th>34</th>\n      <td>2009-01-01</td>\n      <td>XE</td>\n      <td>2028</td>\n      <td>IAH</td>\n      <td>TYS</td>\n      <td>1900</td>\n      <td>1900.0</td>\n      <td>0.0</td>\n      <td>27.0</td>\n      <td>1927.0</td>\n      <td>...</td>\n      <td>0.0</td>\n      <td>124.0</td>\n      <td>135.0</td>\n      <td>100.0</td>\n      <td>772.0</td>\n      <td>NaN</td>\n      <td>NaN</td>\n      <td>NaN</td>\n      <td>NaN</td>\n      <td>NaN</td>\n    </tr>\n    <tr>\n      <th>87</th>\n      <td>2009-01-01</td>\n      <td>XE</td>\n      <td>2105</td>\n      <td>IAH</td>\n      <td>GRR</td>\n      <td>1300</td>\n      <td>1300.0</td>\n      <td>0.0</td>\n      <td>16.0</td>\n      <td>1316.0</td>\n      <td>...</td>\n      <td>0.0</td>\n      <td>160.0</td>\n      <td>150.0</td>\n      <td>129.0</td>\n      <td>1042.0</td>\n      <td>NaN</td>\n      <td>NaN</td>\n      <td>NaN</td>\n      <td>NaN</td>\n      <td>NaN</td>\n    </tr>\n    <tr>\n      <th>98</th>\n      <td>2009-01-01</td>\n      <td>XE</td>\n      <td>2126</td>\n      <td>CMH</td>\n      <td>EWR</td>\n      <td>1715</td>\n      <td>1715.0</td>\n      <td>0.0</td>\n      <td>8.0</td>\n      <td>1723.0</td>\n      <td>...</td>\n      <td>0.0</td>\n      <td>113.0</td>\n      <td>137.0</td>\n      <td>84.0</td>\n      <td>462.0</td>\n      <td>0.0</td>\n      <td>0.0</td>\n      <td>24.0</td>\n      <td>0.0</td>\n      <td>0.0</td>\n    </tr>\n    <tr>\n      <th>...</th>\n      <td>...</td>\n      <td>...</td>\n      <td>...</td>\n      <td>...</td>\n      <td>...</td>\n      <td>...</td>\n      <td>...</td>\n      <td>...</td>\n      <td>...</td>\n      <td>...</td>\n      <td>...</td>\n      <td>...</td>\n      <td>...</td>\n      <td>...</td>\n      <td>...</td>\n      <td>...</td>\n      <td>...</td>\n      <td>...</td>\n      <td>...</td>\n      <td>...</td>\n      <td>...</td>\n    </tr>\n    <tr>\n      <th>6429312</th>\n      <td>2009-12-31</td>\n      <td>YV</td>\n      <td>2808</td>\n      <td>SNA</td>\n      <td>PHX</td>\n      <td>1115</td>\n      <td>1115.0</td>\n      <td>0.0</td>\n      <td>12.0</td>\n      <td>1127.0</td>\n      <td>...</td>\n      <td>0.0</td>\n      <td>76.0</td>\n      <td>67.0</td>\n      <td>50.0</td>\n      <td>338.0</td>\n      <td>NaN</td>\n      <td>NaN</td>\n      <td>NaN</td>\n      <td>NaN</td>\n      <td>NaN</td>\n    </tr>\n    <tr>\n      <th>6429313</th>\n      <td>2009-12-31</td>\n      <td>YV</td>\n      <td>2661</td>\n      <td>SRQ</td>\n      <td>CLT</td>\n      <td>655</td>\n      <td>655.0</td>\n      <td>0.0</td>\n      <td>16.0</td>\n      <td>711.0</td>\n      <td>...</td>\n      <td>0.0</td>\n      <td>106.0</td>\n      <td>120.0</td>\n      <td>96.0</td>\n      <td>547.0</td>\n      <td>NaN</td>\n      <td>NaN</td>\n      <td>NaN</td>\n      <td>NaN</td>\n      <td>NaN</td>\n    </tr>\n    <tr>\n      <th>6429323</th>\n      <td>2009-12-31</td>\n      <td>YV</td>\n      <td>2878</td>\n      <td>TUS</td>\n      <td>PHX</td>\n      <td>1125</td>\n      <td>1125.0</td>\n      <td>0.0</td>\n      <td>13.0</td>\n      <td>1138.0</td>\n      <td>...</td>\n      <td>0.0</td>\n      <td>52.0</td>\n      <td>55.0</td>\n      <td>35.0</td>\n      <td>110.0</td>\n      <td>NaN</td>\n      <td>NaN</td>\n      <td>NaN</td>\n      <td>NaN</td>\n      <td>NaN</td>\n    </tr>\n    <tr>\n      <th>6429327</th>\n      <td>2009-12-31</td>\n      <td>YV</td>\n      <td>7059</td>\n      <td>TVC</td>\n      <td>ORD</td>\n      <td>1103</td>\n      <td>1103.0</td>\n      <td>0.0</td>\n      <td>14.0</td>\n      <td>1117.0</td>\n      <td>...</td>\n      <td>0.0</td>\n      <td>77.0</td>\n      <td>75.0</td>\n      <td>48.0</td>\n      <td>224.0</td>\n      <td>NaN</td>\n      <td>NaN</td>\n      <td>NaN</td>\n      <td>NaN</td>\n      <td>NaN</td>\n    </tr>\n    <tr>\n      <th>6429335</th>\n      <td>2009-12-31</td>\n      <td>YV</td>\n      <td>2866</td>\n      <td>YUM</td>\n      <td>PHX</td>\n      <td>1400</td>\n      <td>1400.0</td>\n      <td>0.0</td>\n      <td>29.0</td>\n      <td>1429.0</td>\n      <td>...</td>\n      <td>0.0</td>\n      <td>55.0</td>\n      <td>70.0</td>\n      <td>32.0</td>\n      <td>160.0</td>\n      <td>0.0</td>\n      <td>0.0</td>\n      <td>15.0</td>\n      <td>0.0</td>\n      <td>0.0</td>\n    </tr>\n  </tbody>\n</table>\n<p>467818 rows × 27 columns</p>\n</div>"
     },
     "execution_count": 14,
     "metadata": {},
     "output_type": "execute_result"
    }
   ],
   "source": [
    "df_old[df_old['dep_delay'] == 0]"
   ]
  },
  {
   "cell_type": "code",
   "execution_count": 15,
   "metadata": {},
   "outputs": [
    {
     "data": {
      "text/plain": "2359"
     },
     "execution_count": 15,
     "metadata": {},
     "output_type": "execute_result"
    }
   ],
   "source": [
    "df_old['crs_dep_time'].max()"
   ]
  },
  {
   "cell_type": "code",
   "execution_count": 16,
   "metadata": {},
   "outputs": [
    {
     "data": {
      "text/plain": "1"
     },
     "execution_count": 16,
     "metadata": {},
     "output_type": "execute_result"
    }
   ],
   "source": [
    "df_old['crs_dep_time'].min()"
   ]
  },
  {
   "cell_type": "code",
   "execution_count": 17,
   "metadata": {},
   "outputs": [
    {
     "data": {
      "text/plain": "           fl_date op_carrier  op_carrier_fl_num origin dest  crs_dep_time  \\\n879     2009-01-01         YV               7104    DEN  CPR          2150   \n926     2009-01-01         YV               7329    DTW  ORD          1857   \n935     2009-01-01         YV               7065    EWR  IAD          1013   \n938     2009-01-01         YV               2984    FAT  LAS           710   \n941     2009-01-01         YV               2823    FAT  PHX           920   \n...            ...        ...                ...    ...  ...           ...   \n6429092 2009-12-31         YV               7259    OKC  IAD          1200   \n6429170 2009-12-31         YV               7204    ORF  IAD          1227   \n6429268 2009-12-31         YV               7194    PVD  IAD          1416   \n6429272 2009-12-31         YV               7177    RDU  IAD          1016   \n6429276 2009-12-31         YV               7290    ROA  IAD           611   \n\n         dep_time  dep_delay  taxi_out  wheels_off  ...  diverted  \\\n879           NaN        NaN       NaN         NaN  ...       0.0   \n926           NaN        NaN       NaN         NaN  ...       0.0   \n935           NaN        NaN       NaN         NaN  ...       0.0   \n938           NaN        NaN       NaN         NaN  ...       0.0   \n941           NaN        NaN       NaN         NaN  ...       0.0   \n...           ...        ...       ...         ...  ...       ...   \n6429092    1211.0       11.0      10.0      1221.0  ...       0.0   \n6429170       NaN        NaN       NaN         NaN  ...       0.0   \n6429268       NaN        NaN       NaN         NaN  ...       0.0   \n6429272       NaN        NaN       NaN         NaN  ...       0.0   \n6429276       NaN        NaN       NaN         NaN  ...       0.0   \n\n         crs_elapsed_time  actual_elapsed_time  air_time  distance  \\\n879                  82.0                  NaN       NaN     230.0   \n926                  77.0                  NaN       NaN     235.0   \n935                  86.0                  NaN       NaN     213.0   \n938                  70.0                  NaN       NaN     258.0   \n941                 105.0                  NaN       NaN     493.0   \n...                   ...                  ...       ...       ...   \n6429092             161.0                  NaN       NaN    1136.0   \n6429170              56.0                  NaN       NaN     157.0   \n6429268              93.0                  NaN       NaN     372.0   \n6429272              61.0                  NaN       NaN     224.0   \n6429276              64.0                  NaN       NaN     177.0   \n\n         carrier_delay weather_delay  nas_delay  security_delay  \\\n879                NaN           NaN        NaN             NaN   \n926                NaN           NaN        NaN             NaN   \n935                NaN           NaN        NaN             NaN   \n938                NaN           NaN        NaN             NaN   \n941                NaN           NaN        NaN             NaN   \n...                ...           ...        ...             ...   \n6429092            NaN           NaN        NaN             NaN   \n6429170            NaN           NaN        NaN             NaN   \n6429268            NaN           NaN        NaN             NaN   \n6429272            NaN           NaN        NaN             NaN   \n6429276            NaN           NaN        NaN             NaN   \n\n         late_aircraft_delay  \n879                      NaN  \n926                      NaN  \n935                      NaN  \n938                      NaN  \n941                      NaN  \n...                      ...  \n6429092                  NaN  \n6429170                  NaN  \n6429268                  NaN  \n6429272                  NaN  \n6429276                  NaN  \n\n[87038 rows x 27 columns]",
      "text/html": "<div>\n<style scoped>\n    .dataframe tbody tr th:only-of-type {\n        vertical-align: middle;\n    }\n\n    .dataframe tbody tr th {\n        vertical-align: top;\n    }\n\n    .dataframe thead th {\n        text-align: right;\n    }\n</style>\n<table border=\"1\" class=\"dataframe\">\n  <thead>\n    <tr style=\"text-align: right;\">\n      <th></th>\n      <th>fl_date</th>\n      <th>op_carrier</th>\n      <th>op_carrier_fl_num</th>\n      <th>origin</th>\n      <th>dest</th>\n      <th>crs_dep_time</th>\n      <th>dep_time</th>\n      <th>dep_delay</th>\n      <th>taxi_out</th>\n      <th>wheels_off</th>\n      <th>...</th>\n      <th>diverted</th>\n      <th>crs_elapsed_time</th>\n      <th>actual_elapsed_time</th>\n      <th>air_time</th>\n      <th>distance</th>\n      <th>carrier_delay</th>\n      <th>weather_delay</th>\n      <th>nas_delay</th>\n      <th>security_delay</th>\n      <th>late_aircraft_delay</th>\n    </tr>\n  </thead>\n  <tbody>\n    <tr>\n      <th>879</th>\n      <td>2009-01-01</td>\n      <td>YV</td>\n      <td>7104</td>\n      <td>DEN</td>\n      <td>CPR</td>\n      <td>2150</td>\n      <td>NaN</td>\n      <td>NaN</td>\n      <td>NaN</td>\n      <td>NaN</td>\n      <td>...</td>\n      <td>0.0</td>\n      <td>82.0</td>\n      <td>NaN</td>\n      <td>NaN</td>\n      <td>230.0</td>\n      <td>NaN</td>\n      <td>NaN</td>\n      <td>NaN</td>\n      <td>NaN</td>\n      <td>NaN</td>\n    </tr>\n    <tr>\n      <th>926</th>\n      <td>2009-01-01</td>\n      <td>YV</td>\n      <td>7329</td>\n      <td>DTW</td>\n      <td>ORD</td>\n      <td>1857</td>\n      <td>NaN</td>\n      <td>NaN</td>\n      <td>NaN</td>\n      <td>NaN</td>\n      <td>...</td>\n      <td>0.0</td>\n      <td>77.0</td>\n      <td>NaN</td>\n      <td>NaN</td>\n      <td>235.0</td>\n      <td>NaN</td>\n      <td>NaN</td>\n      <td>NaN</td>\n      <td>NaN</td>\n      <td>NaN</td>\n    </tr>\n    <tr>\n      <th>935</th>\n      <td>2009-01-01</td>\n      <td>YV</td>\n      <td>7065</td>\n      <td>EWR</td>\n      <td>IAD</td>\n      <td>1013</td>\n      <td>NaN</td>\n      <td>NaN</td>\n      <td>NaN</td>\n      <td>NaN</td>\n      <td>...</td>\n      <td>0.0</td>\n      <td>86.0</td>\n      <td>NaN</td>\n      <td>NaN</td>\n      <td>213.0</td>\n      <td>NaN</td>\n      <td>NaN</td>\n      <td>NaN</td>\n      <td>NaN</td>\n      <td>NaN</td>\n    </tr>\n    <tr>\n      <th>938</th>\n      <td>2009-01-01</td>\n      <td>YV</td>\n      <td>2984</td>\n      <td>FAT</td>\n      <td>LAS</td>\n      <td>710</td>\n      <td>NaN</td>\n      <td>NaN</td>\n      <td>NaN</td>\n      <td>NaN</td>\n      <td>...</td>\n      <td>0.0</td>\n      <td>70.0</td>\n      <td>NaN</td>\n      <td>NaN</td>\n      <td>258.0</td>\n      <td>NaN</td>\n      <td>NaN</td>\n      <td>NaN</td>\n      <td>NaN</td>\n      <td>NaN</td>\n    </tr>\n    <tr>\n      <th>941</th>\n      <td>2009-01-01</td>\n      <td>YV</td>\n      <td>2823</td>\n      <td>FAT</td>\n      <td>PHX</td>\n      <td>920</td>\n      <td>NaN</td>\n      <td>NaN</td>\n      <td>NaN</td>\n      <td>NaN</td>\n      <td>...</td>\n      <td>0.0</td>\n      <td>105.0</td>\n      <td>NaN</td>\n      <td>NaN</td>\n      <td>493.0</td>\n      <td>NaN</td>\n      <td>NaN</td>\n      <td>NaN</td>\n      <td>NaN</td>\n      <td>NaN</td>\n    </tr>\n    <tr>\n      <th>...</th>\n      <td>...</td>\n      <td>...</td>\n      <td>...</td>\n      <td>...</td>\n      <td>...</td>\n      <td>...</td>\n      <td>...</td>\n      <td>...</td>\n      <td>...</td>\n      <td>...</td>\n      <td>...</td>\n      <td>...</td>\n      <td>...</td>\n      <td>...</td>\n      <td>...</td>\n      <td>...</td>\n      <td>...</td>\n      <td>...</td>\n      <td>...</td>\n      <td>...</td>\n      <td>...</td>\n    </tr>\n    <tr>\n      <th>6429092</th>\n      <td>2009-12-31</td>\n      <td>YV</td>\n      <td>7259</td>\n      <td>OKC</td>\n      <td>IAD</td>\n      <td>1200</td>\n      <td>1211.0</td>\n      <td>11.0</td>\n      <td>10.0</td>\n      <td>1221.0</td>\n      <td>...</td>\n      <td>0.0</td>\n      <td>161.0</td>\n      <td>NaN</td>\n      <td>NaN</td>\n      <td>1136.0</td>\n      <td>NaN</td>\n      <td>NaN</td>\n      <td>NaN</td>\n      <td>NaN</td>\n      <td>NaN</td>\n    </tr>\n    <tr>\n      <th>6429170</th>\n      <td>2009-12-31</td>\n      <td>YV</td>\n      <td>7204</td>\n      <td>ORF</td>\n      <td>IAD</td>\n      <td>1227</td>\n      <td>NaN</td>\n      <td>NaN</td>\n      <td>NaN</td>\n      <td>NaN</td>\n      <td>...</td>\n      <td>0.0</td>\n      <td>56.0</td>\n      <td>NaN</td>\n      <td>NaN</td>\n      <td>157.0</td>\n      <td>NaN</td>\n      <td>NaN</td>\n      <td>NaN</td>\n      <td>NaN</td>\n      <td>NaN</td>\n    </tr>\n    <tr>\n      <th>6429268</th>\n      <td>2009-12-31</td>\n      <td>YV</td>\n      <td>7194</td>\n      <td>PVD</td>\n      <td>IAD</td>\n      <td>1416</td>\n      <td>NaN</td>\n      <td>NaN</td>\n      <td>NaN</td>\n      <td>NaN</td>\n      <td>...</td>\n      <td>0.0</td>\n      <td>93.0</td>\n      <td>NaN</td>\n      <td>NaN</td>\n      <td>372.0</td>\n      <td>NaN</td>\n      <td>NaN</td>\n      <td>NaN</td>\n      <td>NaN</td>\n      <td>NaN</td>\n    </tr>\n    <tr>\n      <th>6429272</th>\n      <td>2009-12-31</td>\n      <td>YV</td>\n      <td>7177</td>\n      <td>RDU</td>\n      <td>IAD</td>\n      <td>1016</td>\n      <td>NaN</td>\n      <td>NaN</td>\n      <td>NaN</td>\n      <td>NaN</td>\n      <td>...</td>\n      <td>0.0</td>\n      <td>61.0</td>\n      <td>NaN</td>\n      <td>NaN</td>\n      <td>224.0</td>\n      <td>NaN</td>\n      <td>NaN</td>\n      <td>NaN</td>\n      <td>NaN</td>\n      <td>NaN</td>\n    </tr>\n    <tr>\n      <th>6429276</th>\n      <td>2009-12-31</td>\n      <td>YV</td>\n      <td>7290</td>\n      <td>ROA</td>\n      <td>IAD</td>\n      <td>611</td>\n      <td>NaN</td>\n      <td>NaN</td>\n      <td>NaN</td>\n      <td>NaN</td>\n      <td>...</td>\n      <td>0.0</td>\n      <td>64.0</td>\n      <td>NaN</td>\n      <td>NaN</td>\n      <td>177.0</td>\n      <td>NaN</td>\n      <td>NaN</td>\n      <td>NaN</td>\n      <td>NaN</td>\n      <td>NaN</td>\n    </tr>\n  </tbody>\n</table>\n<p>87038 rows × 27 columns</p>\n</div>"
     },
     "execution_count": 17,
     "metadata": {},
     "output_type": "execute_result"
    }
   ],
   "source": [
    "df_old[df_old['cancelled'] == 1]"
   ]
  },
  {
   "cell_type": "code",
   "execution_count": 18,
   "metadata": {},
   "outputs": [
    {
     "data": {
      "text/plain": "           fl_date op_carrier  op_carrier_fl_num origin dest  crs_dep_time  \\\n661     2009-01-01         XE               2980    IAH  TYS          1315   \n818     2009-01-01         YV               2637    CLT  BHM          2230   \n1936    2009-01-01         OO               4490    MCI  ATL          1520   \n1994    2009-01-01         OO               4665    SLC  ACV          1115   \n2192    2009-01-01         OO               4878    SLC  BTM          1059   \n...            ...        ...                ...    ...  ...           ...   \n6428259 2009-12-31         XE               2382    CLE  DAY           850   \n6428634 2009-12-31         XE               2967    IAH  LBB           900   \n6428718 2009-12-31         XE               3096    IAH  CMH           740   \n6429157 2009-12-31         YV               7058    ORD  ORF           848   \n6429208 2009-12-31         YV               2905    PHX  GJT          1556   \n\n         dep_time  dep_delay  taxi_out  wheels_off  ...  diverted  \\\n661        1312.0       -3.0       8.0      1320.0  ...       1.0   \n818        2315.0       45.0       8.0      2323.0  ...       1.0   \n1936       1523.0        3.0      11.0      1534.0  ...       1.0   \n1994       1112.0       -3.0      16.0      1128.0  ...       1.0   \n2192       1053.0       -6.0      15.0      1108.0  ...       1.0   \n...           ...        ...       ...         ...  ...       ...   \n6428259     848.0       -2.0      16.0       904.0  ...       1.0   \n6428634     900.0        0.0      25.0       925.0  ...       1.0   \n6428718     739.0       -1.0      48.0       827.0  ...       1.0   \n6429157     901.0       13.0      19.0       920.0  ...       1.0   \n6429208    1546.0      -10.0      22.0      1608.0  ...       1.0   \n\n         crs_elapsed_time  actual_elapsed_time  air_time  distance  \\\n661                 122.0                  NaN       NaN     772.0   \n818                  85.0                  NaN       NaN     351.0   \n1936                125.0                  NaN       NaN     692.0   \n1994                115.0                  NaN       NaN     635.0   \n2192                 81.0                  NaN       NaN     357.0   \n...                   ...                  ...       ...       ...   \n6428259              55.0                  NaN       NaN     162.0   \n6428634              98.0                  NaN       NaN     458.0   \n6428718             152.0                  NaN       NaN     986.0   \n6429157             117.0                  NaN       NaN     717.0   \n6429208             118.0                  NaN       NaN     438.0   \n\n         carrier_delay weather_delay  nas_delay  security_delay  \\\n661                NaN           NaN        NaN             NaN   \n818                NaN           NaN        NaN             NaN   \n1936               NaN           NaN        NaN             NaN   \n1994               NaN           NaN        NaN             NaN   \n2192               NaN           NaN        NaN             NaN   \n...                ...           ...        ...             ...   \n6428259            NaN           NaN        NaN             NaN   \n6428634            NaN           NaN        NaN             NaN   \n6428718            NaN           NaN        NaN             NaN   \n6429157            NaN           NaN        NaN             NaN   \n6429208            NaN           NaN        NaN             NaN   \n\n         late_aircraft_delay  \n661                      NaN  \n818                      NaN  \n1936                     NaN  \n1994                     NaN  \n2192                     NaN  \n...                      ...  \n6428259                  NaN  \n6428634                  NaN  \n6428718                  NaN  \n6429157                  NaN  \n6429208                  NaN  \n\n[15323 rows x 27 columns]",
      "text/html": "<div>\n<style scoped>\n    .dataframe tbody tr th:only-of-type {\n        vertical-align: middle;\n    }\n\n    .dataframe tbody tr th {\n        vertical-align: top;\n    }\n\n    .dataframe thead th {\n        text-align: right;\n    }\n</style>\n<table border=\"1\" class=\"dataframe\">\n  <thead>\n    <tr style=\"text-align: right;\">\n      <th></th>\n      <th>fl_date</th>\n      <th>op_carrier</th>\n      <th>op_carrier_fl_num</th>\n      <th>origin</th>\n      <th>dest</th>\n      <th>crs_dep_time</th>\n      <th>dep_time</th>\n      <th>dep_delay</th>\n      <th>taxi_out</th>\n      <th>wheels_off</th>\n      <th>...</th>\n      <th>diverted</th>\n      <th>crs_elapsed_time</th>\n      <th>actual_elapsed_time</th>\n      <th>air_time</th>\n      <th>distance</th>\n      <th>carrier_delay</th>\n      <th>weather_delay</th>\n      <th>nas_delay</th>\n      <th>security_delay</th>\n      <th>late_aircraft_delay</th>\n    </tr>\n  </thead>\n  <tbody>\n    <tr>\n      <th>661</th>\n      <td>2009-01-01</td>\n      <td>XE</td>\n      <td>2980</td>\n      <td>IAH</td>\n      <td>TYS</td>\n      <td>1315</td>\n      <td>1312.0</td>\n      <td>-3.0</td>\n      <td>8.0</td>\n      <td>1320.0</td>\n      <td>...</td>\n      <td>1.0</td>\n      <td>122.0</td>\n      <td>NaN</td>\n      <td>NaN</td>\n      <td>772.0</td>\n      <td>NaN</td>\n      <td>NaN</td>\n      <td>NaN</td>\n      <td>NaN</td>\n      <td>NaN</td>\n    </tr>\n    <tr>\n      <th>818</th>\n      <td>2009-01-01</td>\n      <td>YV</td>\n      <td>2637</td>\n      <td>CLT</td>\n      <td>BHM</td>\n      <td>2230</td>\n      <td>2315.0</td>\n      <td>45.0</td>\n      <td>8.0</td>\n      <td>2323.0</td>\n      <td>...</td>\n      <td>1.0</td>\n      <td>85.0</td>\n      <td>NaN</td>\n      <td>NaN</td>\n      <td>351.0</td>\n      <td>NaN</td>\n      <td>NaN</td>\n      <td>NaN</td>\n      <td>NaN</td>\n      <td>NaN</td>\n    </tr>\n    <tr>\n      <th>1936</th>\n      <td>2009-01-01</td>\n      <td>OO</td>\n      <td>4490</td>\n      <td>MCI</td>\n      <td>ATL</td>\n      <td>1520</td>\n      <td>1523.0</td>\n      <td>3.0</td>\n      <td>11.0</td>\n      <td>1534.0</td>\n      <td>...</td>\n      <td>1.0</td>\n      <td>125.0</td>\n      <td>NaN</td>\n      <td>NaN</td>\n      <td>692.0</td>\n      <td>NaN</td>\n      <td>NaN</td>\n      <td>NaN</td>\n      <td>NaN</td>\n      <td>NaN</td>\n    </tr>\n    <tr>\n      <th>1994</th>\n      <td>2009-01-01</td>\n      <td>OO</td>\n      <td>4665</td>\n      <td>SLC</td>\n      <td>ACV</td>\n      <td>1115</td>\n      <td>1112.0</td>\n      <td>-3.0</td>\n      <td>16.0</td>\n      <td>1128.0</td>\n      <td>...</td>\n      <td>1.0</td>\n      <td>115.0</td>\n      <td>NaN</td>\n      <td>NaN</td>\n      <td>635.0</td>\n      <td>NaN</td>\n      <td>NaN</td>\n      <td>NaN</td>\n      <td>NaN</td>\n      <td>NaN</td>\n    </tr>\n    <tr>\n      <th>2192</th>\n      <td>2009-01-01</td>\n      <td>OO</td>\n      <td>4878</td>\n      <td>SLC</td>\n      <td>BTM</td>\n      <td>1059</td>\n      <td>1053.0</td>\n      <td>-6.0</td>\n      <td>15.0</td>\n      <td>1108.0</td>\n      <td>...</td>\n      <td>1.0</td>\n      <td>81.0</td>\n      <td>NaN</td>\n      <td>NaN</td>\n      <td>357.0</td>\n      <td>NaN</td>\n      <td>NaN</td>\n      <td>NaN</td>\n      <td>NaN</td>\n      <td>NaN</td>\n    </tr>\n    <tr>\n      <th>...</th>\n      <td>...</td>\n      <td>...</td>\n      <td>...</td>\n      <td>...</td>\n      <td>...</td>\n      <td>...</td>\n      <td>...</td>\n      <td>...</td>\n      <td>...</td>\n      <td>...</td>\n      <td>...</td>\n      <td>...</td>\n      <td>...</td>\n      <td>...</td>\n      <td>...</td>\n      <td>...</td>\n      <td>...</td>\n      <td>...</td>\n      <td>...</td>\n      <td>...</td>\n      <td>...</td>\n    </tr>\n    <tr>\n      <th>6428259</th>\n      <td>2009-12-31</td>\n      <td>XE</td>\n      <td>2382</td>\n      <td>CLE</td>\n      <td>DAY</td>\n      <td>850</td>\n      <td>848.0</td>\n      <td>-2.0</td>\n      <td>16.0</td>\n      <td>904.0</td>\n      <td>...</td>\n      <td>1.0</td>\n      <td>55.0</td>\n      <td>NaN</td>\n      <td>NaN</td>\n      <td>162.0</td>\n      <td>NaN</td>\n      <td>NaN</td>\n      <td>NaN</td>\n      <td>NaN</td>\n      <td>NaN</td>\n    </tr>\n    <tr>\n      <th>6428634</th>\n      <td>2009-12-31</td>\n      <td>XE</td>\n      <td>2967</td>\n      <td>IAH</td>\n      <td>LBB</td>\n      <td>900</td>\n      <td>900.0</td>\n      <td>0.0</td>\n      <td>25.0</td>\n      <td>925.0</td>\n      <td>...</td>\n      <td>1.0</td>\n      <td>98.0</td>\n      <td>NaN</td>\n      <td>NaN</td>\n      <td>458.0</td>\n      <td>NaN</td>\n      <td>NaN</td>\n      <td>NaN</td>\n      <td>NaN</td>\n      <td>NaN</td>\n    </tr>\n    <tr>\n      <th>6428718</th>\n      <td>2009-12-31</td>\n      <td>XE</td>\n      <td>3096</td>\n      <td>IAH</td>\n      <td>CMH</td>\n      <td>740</td>\n      <td>739.0</td>\n      <td>-1.0</td>\n      <td>48.0</td>\n      <td>827.0</td>\n      <td>...</td>\n      <td>1.0</td>\n      <td>152.0</td>\n      <td>NaN</td>\n      <td>NaN</td>\n      <td>986.0</td>\n      <td>NaN</td>\n      <td>NaN</td>\n      <td>NaN</td>\n      <td>NaN</td>\n      <td>NaN</td>\n    </tr>\n    <tr>\n      <th>6429157</th>\n      <td>2009-12-31</td>\n      <td>YV</td>\n      <td>7058</td>\n      <td>ORD</td>\n      <td>ORF</td>\n      <td>848</td>\n      <td>901.0</td>\n      <td>13.0</td>\n      <td>19.0</td>\n      <td>920.0</td>\n      <td>...</td>\n      <td>1.0</td>\n      <td>117.0</td>\n      <td>NaN</td>\n      <td>NaN</td>\n      <td>717.0</td>\n      <td>NaN</td>\n      <td>NaN</td>\n      <td>NaN</td>\n      <td>NaN</td>\n      <td>NaN</td>\n    </tr>\n    <tr>\n      <th>6429208</th>\n      <td>2009-12-31</td>\n      <td>YV</td>\n      <td>2905</td>\n      <td>PHX</td>\n      <td>GJT</td>\n      <td>1556</td>\n      <td>1546.0</td>\n      <td>-10.0</td>\n      <td>22.0</td>\n      <td>1608.0</td>\n      <td>...</td>\n      <td>1.0</td>\n      <td>118.0</td>\n      <td>NaN</td>\n      <td>NaN</td>\n      <td>438.0</td>\n      <td>NaN</td>\n      <td>NaN</td>\n      <td>NaN</td>\n      <td>NaN</td>\n      <td>NaN</td>\n    </tr>\n  </tbody>\n</table>\n<p>15323 rows × 27 columns</p>\n</div>"
     },
     "execution_count": 18,
     "metadata": {},
     "output_type": "execute_result"
    }
   ],
   "source": [
    "df_old[(df_old['arr_delay'].isnull()) & (df_old['cancelled'] == 0) & (df_old['diverted'] == 1)]"
   ]
  },
  {
   "cell_type": "code",
   "execution_count": 19,
   "outputs": [
    {
     "data": {
      "text/plain": "    IATA_CODE                              AIRPORT  \\\n0         ABE  Lehigh Valley International Airport   \n1         ABI             Abilene Regional Airport   \n2         ABQ    Albuquerque International Sunport   \n3         ABR            Aberdeen Regional Airport   \n4         ABY   Southwest Georgia Regional Airport   \n..        ...                                  ...   \n317       WRG                     Wrangell Airport   \n318       WYS               Westerly State Airport   \n319       XNA  Northwest Arkansas Regional Airport   \n320       YAK                      Yakutat Airport   \n321       YUM           Yuma International Airport   \n\n                               CITY STATE COUNTRY  LATITUDE  LONGITUDE  \n0                         Allentown    PA     USA  40.65236  -75.44040  \n1                           Abilene    TX     USA  32.41132  -99.68190  \n2                       Albuquerque    NM     USA  35.04022 -106.60919  \n3                          Aberdeen    SD     USA  45.44906  -98.42183  \n4                            Albany    GA     USA  31.53552  -84.19447  \n..                              ...   ...     ...       ...        ...  \n317                        Wrangell    AK     USA  56.48433 -132.36982  \n318                West Yellowstone    MT     USA  44.68840 -111.11764  \n319  Fayetteville/Springdale/Rogers    AR     USA  36.28187  -94.30681  \n320                         Yakutat    AK     USA  59.50336 -139.66023  \n321                            Yuma    AZ     USA  32.65658 -114.60597  \n\n[322 rows x 7 columns]",
      "text/html": "<div>\n<style scoped>\n    .dataframe tbody tr th:only-of-type {\n        vertical-align: middle;\n    }\n\n    .dataframe tbody tr th {\n        vertical-align: top;\n    }\n\n    .dataframe thead th {\n        text-align: right;\n    }\n</style>\n<table border=\"1\" class=\"dataframe\">\n  <thead>\n    <tr style=\"text-align: right;\">\n      <th></th>\n      <th>IATA_CODE</th>\n      <th>AIRPORT</th>\n      <th>CITY</th>\n      <th>STATE</th>\n      <th>COUNTRY</th>\n      <th>LATITUDE</th>\n      <th>LONGITUDE</th>\n    </tr>\n  </thead>\n  <tbody>\n    <tr>\n      <th>0</th>\n      <td>ABE</td>\n      <td>Lehigh Valley International Airport</td>\n      <td>Allentown</td>\n      <td>PA</td>\n      <td>USA</td>\n      <td>40.65236</td>\n      <td>-75.44040</td>\n    </tr>\n    <tr>\n      <th>1</th>\n      <td>ABI</td>\n      <td>Abilene Regional Airport</td>\n      <td>Abilene</td>\n      <td>TX</td>\n      <td>USA</td>\n      <td>32.41132</td>\n      <td>-99.68190</td>\n    </tr>\n    <tr>\n      <th>2</th>\n      <td>ABQ</td>\n      <td>Albuquerque International Sunport</td>\n      <td>Albuquerque</td>\n      <td>NM</td>\n      <td>USA</td>\n      <td>35.04022</td>\n      <td>-106.60919</td>\n    </tr>\n    <tr>\n      <th>3</th>\n      <td>ABR</td>\n      <td>Aberdeen Regional Airport</td>\n      <td>Aberdeen</td>\n      <td>SD</td>\n      <td>USA</td>\n      <td>45.44906</td>\n      <td>-98.42183</td>\n    </tr>\n    <tr>\n      <th>4</th>\n      <td>ABY</td>\n      <td>Southwest Georgia Regional Airport</td>\n      <td>Albany</td>\n      <td>GA</td>\n      <td>USA</td>\n      <td>31.53552</td>\n      <td>-84.19447</td>\n    </tr>\n    <tr>\n      <th>...</th>\n      <td>...</td>\n      <td>...</td>\n      <td>...</td>\n      <td>...</td>\n      <td>...</td>\n      <td>...</td>\n      <td>...</td>\n    </tr>\n    <tr>\n      <th>317</th>\n      <td>WRG</td>\n      <td>Wrangell Airport</td>\n      <td>Wrangell</td>\n      <td>AK</td>\n      <td>USA</td>\n      <td>56.48433</td>\n      <td>-132.36982</td>\n    </tr>\n    <tr>\n      <th>318</th>\n      <td>WYS</td>\n      <td>Westerly State Airport</td>\n      <td>West Yellowstone</td>\n      <td>MT</td>\n      <td>USA</td>\n      <td>44.68840</td>\n      <td>-111.11764</td>\n    </tr>\n    <tr>\n      <th>319</th>\n      <td>XNA</td>\n      <td>Northwest Arkansas Regional Airport</td>\n      <td>Fayetteville/Springdale/Rogers</td>\n      <td>AR</td>\n      <td>USA</td>\n      <td>36.28187</td>\n      <td>-94.30681</td>\n    </tr>\n    <tr>\n      <th>320</th>\n      <td>YAK</td>\n      <td>Yakutat Airport</td>\n      <td>Yakutat</td>\n      <td>AK</td>\n      <td>USA</td>\n      <td>59.50336</td>\n      <td>-139.66023</td>\n    </tr>\n    <tr>\n      <th>321</th>\n      <td>YUM</td>\n      <td>Yuma International Airport</td>\n      <td>Yuma</td>\n      <td>AZ</td>\n      <td>USA</td>\n      <td>32.65658</td>\n      <td>-114.60597</td>\n    </tr>\n  </tbody>\n</table>\n<p>322 rows × 7 columns</p>\n</div>"
     },
     "execution_count": 19,
     "metadata": {},
     "output_type": "execute_result"
    }
   ],
   "source": [
    "df_airports"
   ],
   "metadata": {
    "collapsed": false,
    "pycharm": {
     "name": "#%%\n"
    }
   }
  },
  {
   "cell_type": "code",
   "execution_count": 20,
   "outputs": [
    {
     "data": {
      "text/plain": "array(['ABE', 'ABI', 'ABQ', 'ABR', 'ABY', 'ACK', 'ACT', 'ACV', 'ACY',\n       'ADK', 'ADQ', 'AEX', 'AGS', 'AKN', 'ALB', 'ALO', 'AMA', 'ANC',\n       'APN', 'ASE', 'ATL', 'ATW', 'AUS', 'AVL', 'AVP', 'AZO', 'BDL',\n       'BET', 'BFL', 'BGM', 'BGR', 'BHM', 'BIL', 'BIS', 'BJI', 'BLI',\n       'BMI', 'BNA', 'BOI', 'BOS', 'BPT', 'BQK', 'BQN', 'BRD', 'BRO',\n       'BRW', 'BTM', 'BTR', 'BTV', 'BUF', 'BUR', 'BWI', 'BZN', 'CAE',\n       'CAK', 'CDC', 'CDV', 'CEC', 'CHA', 'CHO', 'CHS', 'CID', 'CIU',\n       'CLD', 'CLE', 'CLL', 'CLT', 'CMH', 'CMI', 'CMX', 'CNY', 'COD',\n       'COS', 'COU', 'CPR', 'CRP', 'CRW', 'CSG', 'CVG', 'CWA', 'DAB',\n       'DAL', 'DAY', 'DBQ', 'DCA', 'DEN', 'DFW', 'DHN', 'DIK', 'DLG',\n       'DLH', 'DRO', 'DSM', 'DTW', 'DVL', 'EAU', 'ECP', 'EGE', 'EKO',\n       'ELM', 'ELP', 'ERI', 'ESC', 'EUG', 'EVV', 'EWN', 'EWR', 'EYW',\n       'FAI', 'FAR', 'FAT', 'FAY', 'FCA', 'FLG', 'FLL', 'FNT', 'FSD',\n       'FSM', 'FWA', 'GCC', 'GCK', 'GEG', 'GFK', 'GGG', 'GJT', 'GNV',\n       'GPT', 'GRB', 'GRI', 'GRK', 'GRR', 'GSO', 'GSP', 'GST', 'GTF',\n       'GTR', 'GUC', 'GUM', 'HDN', 'HIB', 'HLN', 'HNL', 'HOB', 'HOU',\n       'HPN', 'HRL', 'HSV', 'HYA', 'HYS', 'IAD', 'IAG', 'IAH', 'ICT',\n       'IDA', 'ILG', 'ILM', 'IMT', 'IND', 'INL', 'ISN', 'ISP', 'ITH',\n       'ITO', 'JAC', 'JAN', 'JAX', 'JFK', 'JLN', 'JMS', 'JNU', 'KOA',\n       'KTN', 'LAN', 'LAR', 'LAS', 'LAW', 'LAX', 'LBB', 'LBE', 'LCH',\n       'LEX', 'LFT', 'LGA', 'LGB', 'LIH', 'LIT', 'LNK', 'LRD', 'LSE',\n       'LWS', 'MAF', 'MBS', 'MCI', 'MCO', 'MDT', 'MDW', 'MEI', 'MEM',\n       'MFE', 'MFR', 'MGM', 'MHK', 'MHT', 'MIA', 'MKE', 'MKG', 'MLB',\n       'MLI', 'MLU', 'MMH', 'MOB', 'MOT', 'MQT', 'MRY', 'MSN', 'MSO',\n       'MSP', 'MSY', 'MTJ', 'MVY', 'MYR', 'OAJ', 'OAK', 'OGG', 'OKC',\n       'OMA', 'OME', 'ONT', 'ORD', 'ORF', 'ORH', 'OTH', 'OTZ', 'PAH',\n       'PBG', 'PBI', 'PDX', 'PHF', 'PHL', 'PHX', 'PIA', 'PIB', 'PIH',\n       'PIT', 'PLN', 'PNS', 'PPG', 'PSC', 'PSE', 'PSG', 'PSP', 'PUB',\n       'PVD', 'PWM', 'RAP', 'RDD', 'RDM', 'RDU', 'RHI', 'RIC', 'RKS',\n       'RNO', 'ROA', 'ROC', 'ROW', 'RST', 'RSW', 'SAF', 'SAN', 'SAT',\n       'SAV', 'SBA', 'SBN', 'SBP', 'SCC', 'SCE', 'SDF', 'SEA', 'SFO',\n       'SGF', 'SGU', 'SHV', 'SIT', 'SJC', 'SJT', 'SJU', 'SLC', 'SMF',\n       'SMX', 'SNA', 'SPI', 'SPS', 'SRQ', 'STC', 'STL', 'STT', 'STX',\n       'SUN', 'SUX', 'SWF', 'SYR', 'TLH', 'TOL', 'TPA', 'TRI', 'TTN',\n       'TUL', 'TUS', 'TVC', 'TWF', 'TXK', 'TYR', 'TYS', 'UST', 'VEL',\n       'VLD', 'VPS', 'WRG', 'WYS', 'XNA', 'YAK', 'YUM'], dtype=object)"
     },
     "execution_count": 20,
     "metadata": {},
     "output_type": "execute_result"
    }
   ],
   "source": [
    "df_airports[\"IATA_CODE\"].unique()"
   ],
   "metadata": {
    "collapsed": false,
    "pycharm": {
     "name": "#%%\n"
    }
   }
  },
  {
   "cell_type": "code",
   "execution_count": 21,
   "outputs": [],
   "source": [
    "df_old.drop(df_old[(~df_old[\"origin\"].isin(df_airports[\"IATA_CODE\"].unique()))==True].index, axis=0,inplace=True)"
   ],
   "metadata": {
    "collapsed": false,
    "pycharm": {
     "name": "#%%\n"
    }
   }
  },
  {
   "cell_type": "code",
   "execution_count": 22,
   "outputs": [
    {
     "data": {
      "text/plain": "Empty DataFrame\nColumns: [fl_date, op_carrier, op_carrier_fl_num, origin, dest, crs_dep_time, dep_time, dep_delay, taxi_out, wheels_off, wheels_on, taxi_in, crs_arr_time, arr_time, arr_delay, cancelled, cancellation_code, diverted, crs_elapsed_time, actual_elapsed_time, air_time, distance, carrier_delay, weather_delay, nas_delay, security_delay, late_aircraft_delay]\nIndex: []\n\n[0 rows x 27 columns]",
      "text/html": "<div>\n<style scoped>\n    .dataframe tbody tr th:only-of-type {\n        vertical-align: middle;\n    }\n\n    .dataframe tbody tr th {\n        vertical-align: top;\n    }\n\n    .dataframe thead th {\n        text-align: right;\n    }\n</style>\n<table border=\"1\" class=\"dataframe\">\n  <thead>\n    <tr style=\"text-align: right;\">\n      <th></th>\n      <th>fl_date</th>\n      <th>op_carrier</th>\n      <th>op_carrier_fl_num</th>\n      <th>origin</th>\n      <th>dest</th>\n      <th>crs_dep_time</th>\n      <th>dep_time</th>\n      <th>dep_delay</th>\n      <th>taxi_out</th>\n      <th>wheels_off</th>\n      <th>...</th>\n      <th>diverted</th>\n      <th>crs_elapsed_time</th>\n      <th>actual_elapsed_time</th>\n      <th>air_time</th>\n      <th>distance</th>\n      <th>carrier_delay</th>\n      <th>weather_delay</th>\n      <th>nas_delay</th>\n      <th>security_delay</th>\n      <th>late_aircraft_delay</th>\n    </tr>\n  </thead>\n  <tbody>\n  </tbody>\n</table>\n<p>0 rows × 27 columns</p>\n</div>"
     },
     "execution_count": 22,
     "metadata": {},
     "output_type": "execute_result"
    }
   ],
   "source": [
    "df_old[(~df_old[\"origin\"].isin(df_airports[\"IATA_CODE\"].unique()))==True]"
   ],
   "metadata": {
    "collapsed": false,
    "pycharm": {
     "name": "#%%\n"
    }
   }
  },
  {
   "cell_type": "code",
   "execution_count": 23,
   "outputs": [
    {
     "data": {
      "text/plain": "Empty DataFrame\nColumns: [fl_date, op_carrier, op_carrier_fl_num, origin, dest, crs_dep_time, dep_time, dep_delay, taxi_out, wheels_off, wheels_on, taxi_in, crs_arr_time, arr_time, arr_delay, cancelled, cancellation_code, diverted, crs_elapsed_time, actual_elapsed_time, air_time, distance, carrier_delay, weather_delay, nas_delay, security_delay, late_aircraft_delay]\nIndex: []\n\n[0 rows x 27 columns]",
      "text/html": "<div>\n<style scoped>\n    .dataframe tbody tr th:only-of-type {\n        vertical-align: middle;\n    }\n\n    .dataframe tbody tr th {\n        vertical-align: top;\n    }\n\n    .dataframe thead th {\n        text-align: right;\n    }\n</style>\n<table border=\"1\" class=\"dataframe\">\n  <thead>\n    <tr style=\"text-align: right;\">\n      <th></th>\n      <th>fl_date</th>\n      <th>op_carrier</th>\n      <th>op_carrier_fl_num</th>\n      <th>origin</th>\n      <th>dest</th>\n      <th>crs_dep_time</th>\n      <th>dep_time</th>\n      <th>dep_delay</th>\n      <th>taxi_out</th>\n      <th>wheels_off</th>\n      <th>...</th>\n      <th>diverted</th>\n      <th>crs_elapsed_time</th>\n      <th>actual_elapsed_time</th>\n      <th>air_time</th>\n      <th>distance</th>\n      <th>carrier_delay</th>\n      <th>weather_delay</th>\n      <th>nas_delay</th>\n      <th>security_delay</th>\n      <th>late_aircraft_delay</th>\n    </tr>\n  </thead>\n  <tbody>\n  </tbody>\n</table>\n<p>0 rows × 27 columns</p>\n</div>"
     },
     "execution_count": 23,
     "metadata": {},
     "output_type": "execute_result"
    }
   ],
   "source": [
    "df_recent.drop(df_recent[(~df_recent[\"origin\"].isin(df_airports[\"IATA_CODE\"].unique()))==True].index, axis=0,inplace=True)\n",
    "df_recent[(~df_recent[\"origin\"].isin(df_airports[\"IATA_CODE\"].unique()))==True]"
   ],
   "metadata": {
    "collapsed": false,
    "pycharm": {
     "name": "#%%\n"
    }
   }
  },
  {
   "cell_type": "code",
   "execution_count": 24,
   "outputs": [],
   "source": [
    "df_test = pd.merge(df_old, df_airports,left_on='origin', right_on=\"IATA_CODE\",how=\"outer\")"
   ],
   "metadata": {
    "collapsed": false,
    "pycharm": {
     "name": "#%%\n"
    }
   }
  },
  {
   "cell_type": "code",
   "execution_count": 25,
   "outputs": [
    {
     "data": {
      "text/plain": "           fl_date op_carrier  op_carrier_fl_num origin dest  crs_dep_time  \\\n0       2009-01-01         XE             1204.0    DCA  EWR        1100.0   \n1       2009-01-01         XE             1208.0    DCA  EWR        1240.0   \n2       2009-01-01         XE             1214.0    DCA  EWR        1915.0   \n3       2009-01-01         XE             1218.0    DCA  EWR        1500.0   \n4       2009-01-01         XE             1220.0    DCA  EWR        2100.0   \n...            ...        ...                ...    ...  ...           ...   \n6415337        NaT        NaN                NaN    NaN  NaN           NaN   \n6415338        NaT        NaN                NaN    NaN  NaN           NaN   \n6415339        NaT        NaN                NaN    NaN  NaN           NaN   \n6415340        NaT        NaN                NaN    NaN  NaN           NaN   \n6415341        NaT        NaN                NaN    NaN  NaN           NaN   \n\n         dep_time  dep_delay  taxi_out  wheels_off  ...  nas_delay  \\\n0          1058.0       -2.0      18.0      1116.0  ...        NaN   \n1          1249.0        9.0      10.0      1259.0  ...        NaN   \n2          1908.0       -7.0       9.0      1917.0  ...        NaN   \n3          1457.0       -3.0      14.0      1511.0  ...        NaN   \n4          2049.0      -11.0      10.0      2059.0  ...        NaN   \n...           ...        ...       ...         ...  ...        ...   \n6415337       NaN        NaN       NaN         NaN  ...        NaN   \n6415338       NaN        NaN       NaN         NaN  ...        NaN   \n6415339       NaN        NaN       NaN         NaN  ...        NaN   \n6415340       NaN        NaN       NaN         NaN  ...        NaN   \n6415341       NaN        NaN       NaN         NaN  ...        NaN   \n\n         security_delay  late_aircraft_delay  IATA_CODE  \\\n0                   NaN                  NaN        DCA   \n1                   NaN                  NaN        DCA   \n2                   NaN                  NaN        DCA   \n3                   NaN                  NaN        DCA   \n4                   NaN                  NaN        DCA   \n...                 ...                  ...        ...   \n6415337             NaN                  NaN        PUB   \n6415338             NaN                  NaN        STC   \n6415339             NaN                  NaN        TTN   \n6415340             NaN                  NaN        UST   \n6415341             NaN                  NaN        VEL   \n\n                                                   AIRPORT           CITY  \\\n0                Ronald Reagan Washington National Airport      Arlington   \n1                Ronald Reagan Washington National Airport      Arlington   \n2                Ronald Reagan Washington National Airport      Arlington   \n3                Ronald Reagan Washington National Airport      Arlington   \n4                Ronald Reagan Washington National Airport      Arlington   \n...                                                    ...            ...   \n6415337                            Pueblo Memorial Airport         Pueblo   \n6415338                         St. Cloud Regional Airport       St Cloud   \n6415339                             Trenton Mercer Airport        Trenton   \n6415340  Northeast Florida Regional Airport (St. August...  St. Augustine   \n6415341                                     Valdez Airport         Vernal   \n\n        STATE  COUNTRY  LATITUDE  LONGITUDE  \n0          VA      USA  38.85208  -77.03772  \n1          VA      USA  38.85208  -77.03772  \n2          VA      USA  38.85208  -77.03772  \n3          VA      USA  38.85208  -77.03772  \n4          VA      USA  38.85208  -77.03772  \n...       ...      ...       ...        ...  \n6415337    CO      USA  38.28909 -104.49657  \n6415338    MN      USA  45.54532  -94.05834  \n6415339    NJ      USA  40.27669  -74.81347  \n6415340    FL      USA       NaN        NaN  \n6415341    UT      USA  40.44090 -109.50992  \n\n[6415342 rows x 34 columns]",
      "text/html": "<div>\n<style scoped>\n    .dataframe tbody tr th:only-of-type {\n        vertical-align: middle;\n    }\n\n    .dataframe tbody tr th {\n        vertical-align: top;\n    }\n\n    .dataframe thead th {\n        text-align: right;\n    }\n</style>\n<table border=\"1\" class=\"dataframe\">\n  <thead>\n    <tr style=\"text-align: right;\">\n      <th></th>\n      <th>fl_date</th>\n      <th>op_carrier</th>\n      <th>op_carrier_fl_num</th>\n      <th>origin</th>\n      <th>dest</th>\n      <th>crs_dep_time</th>\n      <th>dep_time</th>\n      <th>dep_delay</th>\n      <th>taxi_out</th>\n      <th>wheels_off</th>\n      <th>...</th>\n      <th>nas_delay</th>\n      <th>security_delay</th>\n      <th>late_aircraft_delay</th>\n      <th>IATA_CODE</th>\n      <th>AIRPORT</th>\n      <th>CITY</th>\n      <th>STATE</th>\n      <th>COUNTRY</th>\n      <th>LATITUDE</th>\n      <th>LONGITUDE</th>\n    </tr>\n  </thead>\n  <tbody>\n    <tr>\n      <th>0</th>\n      <td>2009-01-01</td>\n      <td>XE</td>\n      <td>1204.0</td>\n      <td>DCA</td>\n      <td>EWR</td>\n      <td>1100.0</td>\n      <td>1058.0</td>\n      <td>-2.0</td>\n      <td>18.0</td>\n      <td>1116.0</td>\n      <td>...</td>\n      <td>NaN</td>\n      <td>NaN</td>\n      <td>NaN</td>\n      <td>DCA</td>\n      <td>Ronald Reagan Washington National Airport</td>\n      <td>Arlington</td>\n      <td>VA</td>\n      <td>USA</td>\n      <td>38.85208</td>\n      <td>-77.03772</td>\n    </tr>\n    <tr>\n      <th>1</th>\n      <td>2009-01-01</td>\n      <td>XE</td>\n      <td>1208.0</td>\n      <td>DCA</td>\n      <td>EWR</td>\n      <td>1240.0</td>\n      <td>1249.0</td>\n      <td>9.0</td>\n      <td>10.0</td>\n      <td>1259.0</td>\n      <td>...</td>\n      <td>NaN</td>\n      <td>NaN</td>\n      <td>NaN</td>\n      <td>DCA</td>\n      <td>Ronald Reagan Washington National Airport</td>\n      <td>Arlington</td>\n      <td>VA</td>\n      <td>USA</td>\n      <td>38.85208</td>\n      <td>-77.03772</td>\n    </tr>\n    <tr>\n      <th>2</th>\n      <td>2009-01-01</td>\n      <td>XE</td>\n      <td>1214.0</td>\n      <td>DCA</td>\n      <td>EWR</td>\n      <td>1915.0</td>\n      <td>1908.0</td>\n      <td>-7.0</td>\n      <td>9.0</td>\n      <td>1917.0</td>\n      <td>...</td>\n      <td>NaN</td>\n      <td>NaN</td>\n      <td>NaN</td>\n      <td>DCA</td>\n      <td>Ronald Reagan Washington National Airport</td>\n      <td>Arlington</td>\n      <td>VA</td>\n      <td>USA</td>\n      <td>38.85208</td>\n      <td>-77.03772</td>\n    </tr>\n    <tr>\n      <th>3</th>\n      <td>2009-01-01</td>\n      <td>XE</td>\n      <td>1218.0</td>\n      <td>DCA</td>\n      <td>EWR</td>\n      <td>1500.0</td>\n      <td>1457.0</td>\n      <td>-3.0</td>\n      <td>14.0</td>\n      <td>1511.0</td>\n      <td>...</td>\n      <td>NaN</td>\n      <td>NaN</td>\n      <td>NaN</td>\n      <td>DCA</td>\n      <td>Ronald Reagan Washington National Airport</td>\n      <td>Arlington</td>\n      <td>VA</td>\n      <td>USA</td>\n      <td>38.85208</td>\n      <td>-77.03772</td>\n    </tr>\n    <tr>\n      <th>4</th>\n      <td>2009-01-01</td>\n      <td>XE</td>\n      <td>1220.0</td>\n      <td>DCA</td>\n      <td>EWR</td>\n      <td>2100.0</td>\n      <td>2049.0</td>\n      <td>-11.0</td>\n      <td>10.0</td>\n      <td>2059.0</td>\n      <td>...</td>\n      <td>NaN</td>\n      <td>NaN</td>\n      <td>NaN</td>\n      <td>DCA</td>\n      <td>Ronald Reagan Washington National Airport</td>\n      <td>Arlington</td>\n      <td>VA</td>\n      <td>USA</td>\n      <td>38.85208</td>\n      <td>-77.03772</td>\n    </tr>\n    <tr>\n      <th>...</th>\n      <td>...</td>\n      <td>...</td>\n      <td>...</td>\n      <td>...</td>\n      <td>...</td>\n      <td>...</td>\n      <td>...</td>\n      <td>...</td>\n      <td>...</td>\n      <td>...</td>\n      <td>...</td>\n      <td>...</td>\n      <td>...</td>\n      <td>...</td>\n      <td>...</td>\n      <td>...</td>\n      <td>...</td>\n      <td>...</td>\n      <td>...</td>\n      <td>...</td>\n      <td>...</td>\n    </tr>\n    <tr>\n      <th>6415337</th>\n      <td>NaT</td>\n      <td>NaN</td>\n      <td>NaN</td>\n      <td>NaN</td>\n      <td>NaN</td>\n      <td>NaN</td>\n      <td>NaN</td>\n      <td>NaN</td>\n      <td>NaN</td>\n      <td>NaN</td>\n      <td>...</td>\n      <td>NaN</td>\n      <td>NaN</td>\n      <td>NaN</td>\n      <td>PUB</td>\n      <td>Pueblo Memorial Airport</td>\n      <td>Pueblo</td>\n      <td>CO</td>\n      <td>USA</td>\n      <td>38.28909</td>\n      <td>-104.49657</td>\n    </tr>\n    <tr>\n      <th>6415338</th>\n      <td>NaT</td>\n      <td>NaN</td>\n      <td>NaN</td>\n      <td>NaN</td>\n      <td>NaN</td>\n      <td>NaN</td>\n      <td>NaN</td>\n      <td>NaN</td>\n      <td>NaN</td>\n      <td>NaN</td>\n      <td>...</td>\n      <td>NaN</td>\n      <td>NaN</td>\n      <td>NaN</td>\n      <td>STC</td>\n      <td>St. Cloud Regional Airport</td>\n      <td>St Cloud</td>\n      <td>MN</td>\n      <td>USA</td>\n      <td>45.54532</td>\n      <td>-94.05834</td>\n    </tr>\n    <tr>\n      <th>6415339</th>\n      <td>NaT</td>\n      <td>NaN</td>\n      <td>NaN</td>\n      <td>NaN</td>\n      <td>NaN</td>\n      <td>NaN</td>\n      <td>NaN</td>\n      <td>NaN</td>\n      <td>NaN</td>\n      <td>NaN</td>\n      <td>...</td>\n      <td>NaN</td>\n      <td>NaN</td>\n      <td>NaN</td>\n      <td>TTN</td>\n      <td>Trenton Mercer Airport</td>\n      <td>Trenton</td>\n      <td>NJ</td>\n      <td>USA</td>\n      <td>40.27669</td>\n      <td>-74.81347</td>\n    </tr>\n    <tr>\n      <th>6415340</th>\n      <td>NaT</td>\n      <td>NaN</td>\n      <td>NaN</td>\n      <td>NaN</td>\n      <td>NaN</td>\n      <td>NaN</td>\n      <td>NaN</td>\n      <td>NaN</td>\n      <td>NaN</td>\n      <td>NaN</td>\n      <td>...</td>\n      <td>NaN</td>\n      <td>NaN</td>\n      <td>NaN</td>\n      <td>UST</td>\n      <td>Northeast Florida Regional Airport (St. August...</td>\n      <td>St. Augustine</td>\n      <td>FL</td>\n      <td>USA</td>\n      <td>NaN</td>\n      <td>NaN</td>\n    </tr>\n    <tr>\n      <th>6415341</th>\n      <td>NaT</td>\n      <td>NaN</td>\n      <td>NaN</td>\n      <td>NaN</td>\n      <td>NaN</td>\n      <td>NaN</td>\n      <td>NaN</td>\n      <td>NaN</td>\n      <td>NaN</td>\n      <td>NaN</td>\n      <td>...</td>\n      <td>NaN</td>\n      <td>NaN</td>\n      <td>NaN</td>\n      <td>VEL</td>\n      <td>Valdez Airport</td>\n      <td>Vernal</td>\n      <td>UT</td>\n      <td>USA</td>\n      <td>40.44090</td>\n      <td>-109.50992</td>\n    </tr>\n  </tbody>\n</table>\n<p>6415342 rows × 34 columns</p>\n</div>"
     },
     "execution_count": 25,
     "metadata": {},
     "output_type": "execute_result"
    }
   ],
   "source": [
    "df_test"
   ],
   "metadata": {
    "collapsed": false,
    "pycharm": {
     "name": "#%%\n"
    }
   }
  },
  {
   "cell_type": "code",
   "execution_count": 26,
   "outputs": [
    {
     "data": {
      "text/plain": "         dep_delay  LATITUDE  LONGITUDE IATA_CODE\n0             -2.0  38.85208  -77.03772       DCA\n1              9.0  38.85208  -77.03772       DCA\n2             -7.0  38.85208  -77.03772       DCA\n3             -3.0  38.85208  -77.03772       DCA\n4            -11.0  38.85208  -77.03772       DCA\n...            ...       ...        ...       ...\n6415337        NaN  38.28909 -104.49657       PUB\n6415338        NaN  45.54532  -94.05834       STC\n6415339        NaN  40.27669  -74.81347       TTN\n6415340        NaN       NaN        NaN       UST\n6415341        NaN  40.44090 -109.50992       VEL\n\n[6415342 rows x 4 columns]",
      "text/html": "<div>\n<style scoped>\n    .dataframe tbody tr th:only-of-type {\n        vertical-align: middle;\n    }\n\n    .dataframe tbody tr th {\n        vertical-align: top;\n    }\n\n    .dataframe thead th {\n        text-align: right;\n    }\n</style>\n<table border=\"1\" class=\"dataframe\">\n  <thead>\n    <tr style=\"text-align: right;\">\n      <th></th>\n      <th>dep_delay</th>\n      <th>LATITUDE</th>\n      <th>LONGITUDE</th>\n      <th>IATA_CODE</th>\n    </tr>\n  </thead>\n  <tbody>\n    <tr>\n      <th>0</th>\n      <td>-2.0</td>\n      <td>38.85208</td>\n      <td>-77.03772</td>\n      <td>DCA</td>\n    </tr>\n    <tr>\n      <th>1</th>\n      <td>9.0</td>\n      <td>38.85208</td>\n      <td>-77.03772</td>\n      <td>DCA</td>\n    </tr>\n    <tr>\n      <th>2</th>\n      <td>-7.0</td>\n      <td>38.85208</td>\n      <td>-77.03772</td>\n      <td>DCA</td>\n    </tr>\n    <tr>\n      <th>3</th>\n      <td>-3.0</td>\n      <td>38.85208</td>\n      <td>-77.03772</td>\n      <td>DCA</td>\n    </tr>\n    <tr>\n      <th>4</th>\n      <td>-11.0</td>\n      <td>38.85208</td>\n      <td>-77.03772</td>\n      <td>DCA</td>\n    </tr>\n    <tr>\n      <th>...</th>\n      <td>...</td>\n      <td>...</td>\n      <td>...</td>\n      <td>...</td>\n    </tr>\n    <tr>\n      <th>6415337</th>\n      <td>NaN</td>\n      <td>38.28909</td>\n      <td>-104.49657</td>\n      <td>PUB</td>\n    </tr>\n    <tr>\n      <th>6415338</th>\n      <td>NaN</td>\n      <td>45.54532</td>\n      <td>-94.05834</td>\n      <td>STC</td>\n    </tr>\n    <tr>\n      <th>6415339</th>\n      <td>NaN</td>\n      <td>40.27669</td>\n      <td>-74.81347</td>\n      <td>TTN</td>\n    </tr>\n    <tr>\n      <th>6415340</th>\n      <td>NaN</td>\n      <td>NaN</td>\n      <td>NaN</td>\n      <td>UST</td>\n    </tr>\n    <tr>\n      <th>6415341</th>\n      <td>NaN</td>\n      <td>40.44090</td>\n      <td>-109.50992</td>\n      <td>VEL</td>\n    </tr>\n  </tbody>\n</table>\n<p>6415342 rows × 4 columns</p>\n</div>"
     },
     "execution_count": 26,
     "metadata": {},
     "output_type": "execute_result"
    }
   ],
   "source": [
    "df_mapbox_old = df_test[[\"dep_delay\",\"LATITUDE\",\"LONGITUDE\",\"IATA_CODE\"]]\n",
    "df_mapbox_old"
   ],
   "metadata": {
    "collapsed": false,
    "pycharm": {
     "name": "#%%\n"
    }
   }
  },
  {
   "cell_type": "code",
   "execution_count": 39,
   "outputs": [],
   "source": [
    "df_mapbox_ant_old = df_mapbox_old[df_mapbox_old[\"dep_delay\"]<0]\n",
    "df_mapbox_del_old = df_mapbox_old[df_mapbox_old[\"dep_delay\"]>0]"
   ],
   "metadata": {
    "collapsed": false,
    "pycharm": {
     "name": "#%%\n"
    }
   }
  },
  {
   "cell_type": "code",
   "execution_count": 28,
   "outputs": [],
   "source": [
    "df_mapbox_ant_old = df_mapbox_ant_old.groupby(by=[\"IATA_CODE\", \"LATITUDE\", \"LONGITUDE\"]).sum()"
   ],
   "metadata": {
    "collapsed": false,
    "pycharm": {
     "name": "#%%\n"
    }
   }
  },
  {
   "cell_type": "code",
   "execution_count": 40,
   "outputs": [],
   "source": [
    "df_mapbox_del_old = df_mapbox_del_old.groupby(by=[\"IATA_CODE\", \"LATITUDE\", \"LONGITUDE\"]).mean()"
   ],
   "metadata": {
    "collapsed": false,
    "pycharm": {
     "name": "#%%\n"
    }
   }
  },
  {
   "cell_type": "code",
   "execution_count": 41,
   "outputs": [
    {
     "data": {
      "text/plain": "'\\ndf_mapbox_ant_old.to_csv(\"data/df_mapbox_ant.csv\")'"
     },
     "execution_count": 41,
     "metadata": {},
     "output_type": "execute_result"
    }
   ],
   "source": [
    "df_mapbox_del_old.to_csv(\"data/df_mapbox_del_1.csv\")\n",
    "'''\n",
    "df_mapbox_ant_old.to_csv(\"data/df_mapbox_ant.csv\")'''"
   ],
   "metadata": {
    "collapsed": false,
    "pycharm": {
     "name": "#%%\n"
    }
   }
  },
  {
   "cell_type": "code",
   "execution_count": 31,
   "outputs": [
    {
     "data": {
      "text/plain": "         dep_delay origin dest\n0             -2.0    DCA  EWR\n1              9.0    DCA  EWR\n2             -7.0    DCA  EWR\n3             -3.0    DCA  EWR\n4            -11.0    DCA  EWR\n...            ...    ...  ...\n6415337        NaN    NaN  NaN\n6415338        NaN    NaN  NaN\n6415339        NaN    NaN  NaN\n6415340        NaN    NaN  NaN\n6415341        NaN    NaN  NaN\n\n[6415342 rows x 3 columns]",
      "text/html": "<div>\n<style scoped>\n    .dataframe tbody tr th:only-of-type {\n        vertical-align: middle;\n    }\n\n    .dataframe tbody tr th {\n        vertical-align: top;\n    }\n\n    .dataframe thead th {\n        text-align: right;\n    }\n</style>\n<table border=\"1\" class=\"dataframe\">\n  <thead>\n    <tr style=\"text-align: right;\">\n      <th></th>\n      <th>dep_delay</th>\n      <th>origin</th>\n      <th>dest</th>\n    </tr>\n  </thead>\n  <tbody>\n    <tr>\n      <th>0</th>\n      <td>-2.0</td>\n      <td>DCA</td>\n      <td>EWR</td>\n    </tr>\n    <tr>\n      <th>1</th>\n      <td>9.0</td>\n      <td>DCA</td>\n      <td>EWR</td>\n    </tr>\n    <tr>\n      <th>2</th>\n      <td>-7.0</td>\n      <td>DCA</td>\n      <td>EWR</td>\n    </tr>\n    <tr>\n      <th>3</th>\n      <td>-3.0</td>\n      <td>DCA</td>\n      <td>EWR</td>\n    </tr>\n    <tr>\n      <th>4</th>\n      <td>-11.0</td>\n      <td>DCA</td>\n      <td>EWR</td>\n    </tr>\n    <tr>\n      <th>...</th>\n      <td>...</td>\n      <td>...</td>\n      <td>...</td>\n    </tr>\n    <tr>\n      <th>6415337</th>\n      <td>NaN</td>\n      <td>NaN</td>\n      <td>NaN</td>\n    </tr>\n    <tr>\n      <th>6415338</th>\n      <td>NaN</td>\n      <td>NaN</td>\n      <td>NaN</td>\n    </tr>\n    <tr>\n      <th>6415339</th>\n      <td>NaN</td>\n      <td>NaN</td>\n      <td>NaN</td>\n    </tr>\n    <tr>\n      <th>6415340</th>\n      <td>NaN</td>\n      <td>NaN</td>\n      <td>NaN</td>\n    </tr>\n    <tr>\n      <th>6415341</th>\n      <td>NaN</td>\n      <td>NaN</td>\n      <td>NaN</td>\n    </tr>\n  </tbody>\n</table>\n<p>6415342 rows × 3 columns</p>\n</div>"
     },
     "execution_count": 31,
     "metadata": {},
     "output_type": "execute_result"
    }
   ],
   "source": [
    "df_connections_old = df_test[[\"dep_delay\",\"origin\",\"dest\"]]\n",
    "df_connections_old"
   ],
   "metadata": {
    "collapsed": false,
    "pycharm": {
     "name": "#%%\n"
    }
   }
  },
  {
   "cell_type": "code",
   "execution_count": 32,
   "outputs": [
    {
     "data": {
      "text/plain": "         dep_delay origin dest\n1              9.0    DCA  EWR\n6             17.0    DCA  MEM\n7              2.0    DCA  MEM\n13            76.0    DCA  BOS\n14            29.0    DCA  BOS\n...            ...    ...  ...\n6415294       40.0    MHK  DFW\n6415295        2.0    MHK  DFW\n6415297        8.0    MHK  DFW\n6415298       16.0    MHK  DFW\n6415300        7.0    MHK  DFW\n\n[2251042 rows x 3 columns]",
      "text/html": "<div>\n<style scoped>\n    .dataframe tbody tr th:only-of-type {\n        vertical-align: middle;\n    }\n\n    .dataframe tbody tr th {\n        vertical-align: top;\n    }\n\n    .dataframe thead th {\n        text-align: right;\n    }\n</style>\n<table border=\"1\" class=\"dataframe\">\n  <thead>\n    <tr style=\"text-align: right;\">\n      <th></th>\n      <th>dep_delay</th>\n      <th>origin</th>\n      <th>dest</th>\n    </tr>\n  </thead>\n  <tbody>\n    <tr>\n      <th>1</th>\n      <td>9.0</td>\n      <td>DCA</td>\n      <td>EWR</td>\n    </tr>\n    <tr>\n      <th>6</th>\n      <td>17.0</td>\n      <td>DCA</td>\n      <td>MEM</td>\n    </tr>\n    <tr>\n      <th>7</th>\n      <td>2.0</td>\n      <td>DCA</td>\n      <td>MEM</td>\n    </tr>\n    <tr>\n      <th>13</th>\n      <td>76.0</td>\n      <td>DCA</td>\n      <td>BOS</td>\n    </tr>\n    <tr>\n      <th>14</th>\n      <td>29.0</td>\n      <td>DCA</td>\n      <td>BOS</td>\n    </tr>\n    <tr>\n      <th>...</th>\n      <td>...</td>\n      <td>...</td>\n      <td>...</td>\n    </tr>\n    <tr>\n      <th>6415294</th>\n      <td>40.0</td>\n      <td>MHK</td>\n      <td>DFW</td>\n    </tr>\n    <tr>\n      <th>6415295</th>\n      <td>2.0</td>\n      <td>MHK</td>\n      <td>DFW</td>\n    </tr>\n    <tr>\n      <th>6415297</th>\n      <td>8.0</td>\n      <td>MHK</td>\n      <td>DFW</td>\n    </tr>\n    <tr>\n      <th>6415298</th>\n      <td>16.0</td>\n      <td>MHK</td>\n      <td>DFW</td>\n    </tr>\n    <tr>\n      <th>6415300</th>\n      <td>7.0</td>\n      <td>MHK</td>\n      <td>DFW</td>\n    </tr>\n  </tbody>\n</table>\n<p>2251042 rows × 3 columns</p>\n</div>"
     },
     "execution_count": 32,
     "metadata": {},
     "output_type": "execute_result"
    }
   ],
   "source": [
    "df_connections_del_old = df_connections_old[df_connections_old[\"dep_delay\"]>0]\n",
    "df_connections_del_old"
   ],
   "metadata": {
    "collapsed": false,
    "pycharm": {
     "name": "#%%\n"
    }
   }
  },
  {
   "cell_type": "code",
   "execution_count": 37,
   "outputs": [
    {
     "data": {
      "text/plain": "            dep_delay           \n                  sum       mean\norigin dest                     \nABE    ATL    13700.0  42.546584\n       CLE     1178.0  43.629630\n       CLT     1783.0  34.288462\n       DTW     6263.0  31.631313\n       FLL      413.0  24.294118\n...               ...        ...\nYAK    CDV     6615.0  40.335366\n       JNU     5102.0  39.550388\nYUM    IPL      417.0  18.954545\n       LAX     4018.0  17.857778\n       PHX    12098.0  43.207143\n\n[4548 rows x 2 columns]",
      "text/html": "<div>\n<style scoped>\n    .dataframe tbody tr th:only-of-type {\n        vertical-align: middle;\n    }\n\n    .dataframe tbody tr th {\n        vertical-align: top;\n    }\n\n    .dataframe thead tr th {\n        text-align: left;\n    }\n\n    .dataframe thead tr:last-of-type th {\n        text-align: right;\n    }\n</style>\n<table border=\"1\" class=\"dataframe\">\n  <thead>\n    <tr>\n      <th></th>\n      <th></th>\n      <th colspan=\"2\" halign=\"left\">dep_delay</th>\n    </tr>\n    <tr>\n      <th></th>\n      <th></th>\n      <th>sum</th>\n      <th>mean</th>\n    </tr>\n    <tr>\n      <th>origin</th>\n      <th>dest</th>\n      <th></th>\n      <th></th>\n    </tr>\n  </thead>\n  <tbody>\n    <tr>\n      <th rowspan=\"5\" valign=\"top\">ABE</th>\n      <th>ATL</th>\n      <td>13700.0</td>\n      <td>42.546584</td>\n    </tr>\n    <tr>\n      <th>CLE</th>\n      <td>1178.0</td>\n      <td>43.629630</td>\n    </tr>\n    <tr>\n      <th>CLT</th>\n      <td>1783.0</td>\n      <td>34.288462</td>\n    </tr>\n    <tr>\n      <th>DTW</th>\n      <td>6263.0</td>\n      <td>31.631313</td>\n    </tr>\n    <tr>\n      <th>FLL</th>\n      <td>413.0</td>\n      <td>24.294118</td>\n    </tr>\n    <tr>\n      <th>...</th>\n      <th>...</th>\n      <td>...</td>\n      <td>...</td>\n    </tr>\n    <tr>\n      <th rowspan=\"2\" valign=\"top\">YAK</th>\n      <th>CDV</th>\n      <td>6615.0</td>\n      <td>40.335366</td>\n    </tr>\n    <tr>\n      <th>JNU</th>\n      <td>5102.0</td>\n      <td>39.550388</td>\n    </tr>\n    <tr>\n      <th rowspan=\"3\" valign=\"top\">YUM</th>\n      <th>IPL</th>\n      <td>417.0</td>\n      <td>18.954545</td>\n    </tr>\n    <tr>\n      <th>LAX</th>\n      <td>4018.0</td>\n      <td>17.857778</td>\n    </tr>\n    <tr>\n      <th>PHX</th>\n      <td>12098.0</td>\n      <td>43.207143</td>\n    </tr>\n  </tbody>\n</table>\n<p>4548 rows × 2 columns</p>\n</div>"
     },
     "execution_count": 37,
     "metadata": {},
     "output_type": "execute_result"
    }
   ],
   "source": [
    "df_connections_grouped_old_del = df_connections_del_old.groupby([\"origin\",\"dest\"]).agg({\"dep_delay\":[\"sum\",\"mean\"]})\n",
    "df_connections_grouped_old_del.to_csv(\"data/df_connections_old_del.csv\")\n",
    "df_connections_grouped_old_del"
   ],
   "metadata": {
    "collapsed": false,
    "pycharm": {
     "name": "#%%\n"
    }
   }
  }
 ],
 "metadata": {
  "kernelspec": {
   "display_name": "Python 3.10.6 ('ds')",
   "language": "python",
   "name": "python3"
  },
  "language_info": {
   "codemirror_mode": {
    "name": "ipython",
    "version": 3
   },
   "file_extension": ".py",
   "mimetype": "text/x-python",
   "name": "python",
   "nbconvert_exporter": "python",
   "pygments_lexer": "ipython3",
   "version": "3.10.6"
  },
  "orig_nbformat": 4,
  "vscode": {
   "interpreter": {
    "hash": "e25e81c88a8a9ec3da346f29f9056cfe3495768f0e3f83405e9576e6f12d1d41"
   }
  }
 },
 "nbformat": 4,
 "nbformat_minor": 2
}